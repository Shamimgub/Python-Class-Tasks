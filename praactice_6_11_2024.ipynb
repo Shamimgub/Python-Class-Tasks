{
  "nbformat": 4,
  "nbformat_minor": 0,
  "metadata": {
    "colab": {
      "provenance": []
    },
    "kernelspec": {
      "name": "python3",
      "display_name": "Python 3"
    },
    "language_info": {
      "name": "python"
    }
  },
  "cells": [
    {
      "cell_type": "markdown",
      "source": [
        "1. Integer operation"
      ],
      "metadata": {
        "id": "dia22UNKIDlt"
      }
    },
    {
      "cell_type": "code",
      "source": [
        "a = 100\n",
        "b= 12\n",
        "addition = a+b\n",
        "subtractiin = a-b\n",
        "multiplication = a*b\n",
        "division = a/b\n",
        "print(addition)\n",
        "print(subtractiin)\n",
        "print(multiplication)\n",
        "print(division)"
      ],
      "metadata": {
        "colab": {
          "base_uri": "https://localhost:8080/"
        },
        "id": "Efo2RWzgIGit",
        "outputId": "052fcd8d-4bc5-415c-ed85-c26fd4d5b12c"
      },
      "execution_count": 1,
      "outputs": [
        {
          "output_type": "stream",
          "name": "stdout",
          "text": [
            "112\n",
            "88\n",
            "1200\n",
            "8.333333333333334\n"
          ]
        }
      ]
    },
    {
      "cell_type": "markdown",
      "source": [
        "2. Floating-point precision"
      ],
      "metadata": {
        "id": "EGsjGNyiIdIZ"
      }
    },
    {
      "cell_type": "code",
      "source": [
        "radius = 9.8\n",
        "pi = 3.1416\n",
        "area = pi*radius*radius\n",
        "print(area)"
      ],
      "metadata": {
        "colab": {
          "base_uri": "https://localhost:8080/"
        },
        "id": "GM_88hofImxg",
        "outputId": "219a319d-28e1-4056-c15b-5606e5e873fc"
      },
      "execution_count": 2,
      "outputs": [
        {
          "output_type": "stream",
          "name": "stdout",
          "text": [
            "301.71926400000007\n"
          ]
        }
      ]
    },
    {
      "cell_type": "markdown",
      "source": [
        "3. String Concatenation"
      ],
      "metadata": {
        "id": "G7d05csQI5we"
      }
    },
    {
      "cell_type": "code",
      "source": [
        "first_name = input(\"Enter your first name:\")\n",
        "last_name = input(\"Enter your last name:\")\n",
        "grettings = \"hello\" + first_name + \"\"  + last_name + \", welcome to python programming class\"\n",
        "print(grettings)\n"
      ],
      "metadata": {
        "colab": {
          "base_uri": "https://localhost:8080/"
        },
        "id": "Q48howpJJA2k",
        "outputId": "db2f49bd-b950-4ba5-ff22-e769413b62d5"
      },
      "execution_count": 4,
      "outputs": [
        {
          "output_type": "stream",
          "name": "stdout",
          "text": [
            "Enter your first name:shamim\n",
            "Enter your last name:ahamed\n",
            "helloshamimahamed, welcome to python programming class\n"
          ]
        }
      ]
    },
    {
      "cell_type": "markdown",
      "source": [
        "4.String Slicing"
      ],
      "metadata": {
        "id": "nwpFja3jKE1u"
      }
    },
    {
      "cell_type": "code",
      "source": [
        "sentence = \"Learning python is fun.\"\n",
        "firstslice = sentence[9: 15]\n",
        "secondslice = sentence[-4:-1]\n",
        "print(firstslice)\n",
        "print(secondslice)"
      ],
      "metadata": {
        "colab": {
          "base_uri": "https://localhost:8080/"
        },
        "id": "VB43DTLjKIj0",
        "outputId": "3dd92f0e-c753-49b0-eb7a-7b6ec169131c"
      },
      "execution_count": 5,
      "outputs": [
        {
          "output_type": "stream",
          "name": "stdout",
          "text": [
            "python\n",
            "fun\n"
          ]
        }
      ]
    },
    {
      "cell_type": "markdown",
      "source": [
        "5. String method"
      ],
      "metadata": {
        "id": "xV4VdEmFLJ_D"
      }
    },
    {
      "cell_type": "code",
      "source": [
        "text =\"Data science is amazing\"\n",
        "upper_text = text.upper()\n",
        "rep_text = text.replace(\"amazing\", \"fantastic\")\n",
        "print(upper_text)\n",
        "print(rep_text)\n"
      ],
      "metadata": {
        "colab": {
          "base_uri": "https://localhost:8080/"
        },
        "id": "txa6iIPzLMH8",
        "outputId": "1a990b6e-8505-4395-d211-dcd018c14e73"
      },
      "execution_count": 6,
      "outputs": [
        {
          "output_type": "stream",
          "name": "stdout",
          "text": [
            "DATA SCIENCE IS AMAZING\n",
            "Data science is fantastic\n"
          ]
        }
      ]
    },
    {
      "cell_type": "markdown",
      "source": [
        "6. Boolean logic"
      ],
      "metadata": {
        "id": "hiy-GBIPLzHZ"
      }
    },
    {
      "cell_type": "code",
      "source": [
        "num = int(input(\"Enter a number: \"))\n",
        "if num > 10 and num <100:\n",
        "  print(num, \"is valid\")\n",
        "else:\n",
        "    print(num, \"is invalid\")"
      ],
      "metadata": {
        "colab": {
          "base_uri": "https://localhost:8080/"
        },
        "id": "L4UiZ-geL3h7",
        "outputId": "075a9d2e-42f0-4969-d743-41266ff58774"
      },
      "execution_count": 10,
      "outputs": [
        {
          "output_type": "stream",
          "name": "stdout",
          "text": [
            "Enter a number: 23\n",
            "23 is valid\n"
          ]
        }
      ]
    },
    {
      "cell_type": "markdown",
      "source": [
        "7. List creation and access"
      ],
      "metadata": {
        "id": "R88u11vGMfrw"
      }
    },
    {
      "cell_type": "code",
      "source": [
        "fruits = [\"apple\", \"mango\", \"bananan\", \"orange\"]\n",
        "print(\"first food is:\", fruits[0])\n",
        "print(\"Last food is:\", fruits[-1])\n",
        "fruits.append(\"grapes\")\n",
        "print(\"Updated list: \", fruits)"
      ],
      "metadata": {
        "colab": {
          "base_uri": "https://localhost:8080/"
        },
        "id": "uU7ZwkA0MkAx",
        "outputId": "86c159da-4113-43db-97aa-942f0a604a62"
      },
      "execution_count": 11,
      "outputs": [
        {
          "output_type": "stream",
          "name": "stdout",
          "text": [
            "first food is: apple\n",
            "Last food is: orange\n",
            "Updated list:  ['apple', 'mango', 'bananan', 'orange', 'grapes']\n"
          ]
        }
      ]
    },
    {
      "cell_type": "markdown",
      "source": [
        "8.List operation"
      ],
      "metadata": {
        "id": "J4ZvucOKNfaf"
      }
    },
    {
      "cell_type": "code",
      "source": [
        "num = [3, 4, 7, 8, 9]\n",
        "totals = sum(num)\n",
        "print(\"sum of total is:\", totals)\n",
        "new_num = [num * 2 for num in num]\n",
        "print(\"new list is:\", new_num)"
      ],
      "metadata": {
        "colab": {
          "base_uri": "https://localhost:8080/"
        },
        "id": "FEM-eLyzNieL",
        "outputId": "accacbf8-5e5c-402e-96ee-c6e1ae44880f"
      },
      "execution_count": 12,
      "outputs": [
        {
          "output_type": "stream",
          "name": "stdout",
          "text": [
            "sum of total is: 31\n",
            "new list is: [6, 8, 14, 16, 18]\n"
          ]
        }
      ]
    },
    {
      "cell_type": "markdown",
      "source": [
        "9. Tuple creation and access"
      ],
      "metadata": {
        "id": "8Gm5vjOaR3aN"
      }
    },
    {
      "cell_type": "code",
      "source": [
        "tuple = (\"shamim\", 12, 23.4, True)\n",
        "print(\"second element is:\", tuple[1])\n",
        "check_true = True in tuple\n",
        "print(\"True is in tuple:\", check_true)\n"
      ],
      "metadata": {
        "colab": {
          "base_uri": "https://localhost:8080/"
        },
        "id": "PiychehrR8SD",
        "outputId": "95c52879-2813-4b03-b19e-55e5fe31425d"
      },
      "execution_count": 13,
      "outputs": [
        {
          "output_type": "stream",
          "name": "stdout",
          "text": [
            "second element is: 12\n",
            "True is in tuple: True\n"
          ]
        }
      ]
    },
    {
      "cell_type": "markdown",
      "source": [
        "10. Set operations"
      ],
      "metadata": {
        "id": "0O3ld-GPSkOD"
      }
    },
    {
      "cell_type": "code",
      "source": [
        "set1 = {2, 1, 5, 7, 8}\n",
        "set2 = {3, 1, 7, 5, 4}\n",
        "intersection = set1.intersection(set2)\n",
        "print(\"intersection of set is:\", intersection)\n",
        "union = set1.union(set2)\n",
        "print(\"union of set is:\", union)\n"
      ],
      "metadata": {
        "colab": {
          "base_uri": "https://localhost:8080/"
        },
        "id": "kDcBlDD-SmrW",
        "outputId": "e321d8e6-04a2-461b-96d7-b559a9b13280"
      },
      "execution_count": 16,
      "outputs": [
        {
          "output_type": "stream",
          "name": "stdout",
          "text": [
            "intersection of set is: {1, 5, 7}\n",
            "union of set is: {1, 2, 3, 4, 5, 7, 8}\n"
          ]
        }
      ]
    },
    {
      "cell_type": "markdown",
      "source": [
        "11. Dictionary cration and access"
      ],
      "metadata": {
        "id": "8kmy2EsOTlJN"
      }
    },
    {
      "cell_type": "code",
      "source": [
        "shamim = {\"name\": \"shamim\", \"age\": 24, \"city\": \"dhaka\"}\n",
        "print(\"name:\", shamim[\"name\"])\n",
        "shamim[\"profession\"] = \"data scientist\"\n",
        "print(\"updated dictionary:\", shamim)\n",
        "print(\"updated dictionary:\", shamim)"
      ],
      "metadata": {
        "colab": {
          "base_uri": "https://localhost:8080/"
        },
        "id": "CehkKw7sTp8u",
        "outputId": "3bbb396c-fa96-4053-b946-5c68f87f7e99"
      },
      "execution_count": 18,
      "outputs": [
        {
          "output_type": "stream",
          "name": "stdout",
          "text": [
            "name: shamim\n",
            "updated dictionary: {'name': 'shamim', 'age': 24, 'city': 'dhaka', 'profession': 'data scientist'}\n",
            "updated dictionary: {'name': 'shamim', 'age': 24, 'city': 'dhaka', 'profession': 'data scientist'}\n"
          ]
        }
      ]
    },
    {
      "cell_type": "markdown",
      "source": [
        "12. Dictionary operations"
      ],
      "metadata": {
        "id": "AO0mtWYvUrp0"
      }
    },
    {
      "cell_type": "code",
      "source": [
        "student={\"shamim\": 90, \"bob\": 88, \"charlie\": 78}\n",
        "print(\"student names\", student.keys())\n",
        "student.pop(\"charlie\")\n",
        "print(\"updated student:\", student)\n"
      ],
      "metadata": {
        "colab": {
          "base_uri": "https://localhost:8080/"
        },
        "id": "O-SOZTe7UvJf",
        "outputId": "6d870450-d3db-4c14-96c0-be5e43d90880"
      },
      "execution_count": 19,
      "outputs": [
        {
          "output_type": "stream",
          "name": "stdout",
          "text": [
            "student names dict_keys(['shamim', 'bob', 'charlie'])\n",
            "updated student: {'shamim': 90, 'bob': 88}\n"
          ]
        }
      ]
    },
    {
      "cell_type": "markdown",
      "source": [
        "13.List slicing"
      ],
      "metadata": {
        "id": "EymsqhamVh_4"
      }
    },
    {
      "cell_type": "code",
      "source": [
        "numbers = [1, 2, 3, 4, 5, 6, 7, 8, 9]\n",
        "print(\"first three elements:\", numbers[:3])\n",
        "print(\"last three elements:\", numbers[-3:])\n",
        "print(\"Elements from index 2 to 6\", numbers[2:7])\n"
      ],
      "metadata": {
        "colab": {
          "base_uri": "https://localhost:8080/"
        },
        "id": "LefaHFX-VkBo",
        "outputId": "7bea6227-1f01-4026-d2d1-14c257ca0836"
      },
      "execution_count": 20,
      "outputs": [
        {
          "output_type": "stream",
          "name": "stdout",
          "text": [
            "first three elements: [1, 2, 3]\n",
            "last three elements: [7, 8, 9]\n",
            "Elements from index 2 to 6 [3, 4, 5, 6, 7]\n"
          ]
        }
      ]
    },
    {
      "cell_type": "markdown",
      "source": [
        "14.List sorting"
      ],
      "metadata": {
        "id": "JHlW38S1WE7F"
      }
    },
    {
      "cell_type": "code",
      "source": [
        "numbers= [5, 2, 8, 1, 9]\n",
        "numbers.sort()\n",
        "print(\"sorted list:\", numbers)\n",
        "numbers.sort(reverse=True)\n",
        "print(\"reverse sorted list:\", numbers)"
      ],
      "metadata": {
        "colab": {
          "base_uri": "https://localhost:8080/"
        },
        "id": "M0tYdzNYWIIl",
        "outputId": "617b6bcc-2c66-4ee9-bce5-454d92482090"
      },
      "execution_count": 21,
      "outputs": [
        {
          "output_type": "stream",
          "name": "stdout",
          "text": [
            "sorted list: [1, 2, 5, 8, 9]\n",
            "reverse sorted list: [9, 8, 5, 2, 1]\n"
          ]
        }
      ]
    },
    {
      "cell_type": "markdown",
      "source": [
        "15. Set uniqueness"
      ],
      "metadata": {
        "id": "n0EVtzkqWTPV"
      }
    },
    {
      "cell_type": "code",
      "source": [
        "numbers= [1, 2, 2, 3, 4, 4, 5]\n",
        "unique_numbers = set(numbers)\n",
        "print(\"unique numbers:\", unique_numbers)\n"
      ],
      "metadata": {
        "colab": {
          "base_uri": "https://localhost:8080/"
        },
        "id": "wZFfHOTKWXGx",
        "outputId": "c213f768-cca1-4979-cfd9-f9c1e65f1c6d"
      },
      "execution_count": 22,
      "outputs": [
        {
          "output_type": "stream",
          "name": "stdout",
          "text": [
            "unique numbers: {1, 2, 3, 4, 5}\n"
          ]
        }
      ]
    },
    {
      "cell_type": "markdown",
      "source": [
        "16. set differences"
      ],
      "metadata": {
        "id": "CYO2EaGmWg4n"
      }
    },
    {
      "cell_type": "code",
      "source": [
        "a={1,2,3,4,5}\n",
        "b={4,5,6,7,8}\n",
        "print(\"a-b\", a.difference(b))\n",
        "print(\"b-a\", b.difference(a))\n"
      ],
      "metadata": {
        "colab": {
          "base_uri": "https://localhost:8080/"
        },
        "id": "db_OASbzWkDR",
        "outputId": "06f8d3e9-c99e-46f9-d4f8-c9155d9de919"
      },
      "execution_count": 24,
      "outputs": [
        {
          "output_type": "stream",
          "name": "stdout",
          "text": [
            "a-b {1, 2, 3}\n",
            "b-a {8, 6, 7}\n"
          ]
        }
      ]
    },
    {
      "cell_type": "markdown",
      "source": [
        "17. string formatting"
      ],
      "metadata": {
        "id": "02lhoeocXUve"
      }
    },
    {
      "cell_type": "code",
      "source": [
        "name = \"shamim\"\n",
        "age = 24\n",
        "city = \"lakshmiphur\"\n",
        "sentence = \"{} is {} years old and lives in {}\".format(name, age, city)\n",
        "print(sentence)"
      ],
      "metadata": {
        "colab": {
          "base_uri": "https://localhost:8080/"
        },
        "id": "pBXgjgSXXaU0",
        "outputId": "874e7458-cfdd-4123-be33-e17aea166aba"
      },
      "execution_count": 25,
      "outputs": [
        {
          "output_type": "stream",
          "name": "stdout",
          "text": [
            "shamim is 24 years old and lives in lakshmiphur\n"
          ]
        }
      ]
    },
    {
      "cell_type": "markdown",
      "source": [
        "18. List comprehension"
      ],
      "metadata": {
        "id": "yo5wvA-MXw77"
      }
    },
    {
      "cell_type": "code",
      "source": [
        "squares= [x**2 for x in range(1, 6)]\n",
        "print(squares)"
      ],
      "metadata": {
        "colab": {
          "base_uri": "https://localhost:8080/"
        },
        "id": "Brs-51snX1p8",
        "outputId": "25bb2f53-044b-43aa-88d8-8bfe66cd63dc"
      },
      "execution_count": 26,
      "outputs": [
        {
          "output_type": "stream",
          "name": "stdout",
          "text": [
            "[1, 4, 9, 16, 25]\n"
          ]
        }
      ]
    },
    {
      "cell_type": "markdown",
      "source": [
        "19. Dictionary from two lists"
      ],
      "metadata": {
        "id": "6SYVCPHFX8KM"
      }
    },
    {
      "cell_type": "code",
      "source": [
        "names = [\"shamim\", \"bob\", \"charlie\"]\n",
        "ages = [24, 25, 26]\n",
        "student = dict(zip(names, ages))\n",
        "print(student)"
      ],
      "metadata": {
        "colab": {
          "base_uri": "https://localhost:8080/"
        },
        "id": "-WgBKPhkYArn",
        "outputId": "150c5106-cfc9-4ec7-a916-084f295d2d8f"
      },
      "execution_count": 27,
      "outputs": [
        {
          "output_type": "stream",
          "name": "stdout",
          "text": [
            "{'shamim': 24, 'bob': 25, 'charlie': 26}\n"
          ]
        }
      ]
    },
    {
      "cell_type": "markdown",
      "source": [
        "20. Nested list access"
      ],
      "metadata": {
        "id": "jaDHbgSaYN9d"
      }
    },
    {
      "cell_type": "code",
      "source": [
        "matrix = [[1,2], [3,4], [5,6]]\n",
        "print(\"second row is:\", matrix[1])\n",
        "print(\"Element at [2][1]:\", matrix[2][1])"
      ],
      "metadata": {
        "colab": {
          "base_uri": "https://localhost:8080/"
        },
        "id": "Fhd5LDzMYSTK",
        "outputId": "cce68c3f-c920-4f45-c01b-17eaf6deb971"
      },
      "execution_count": 29,
      "outputs": [
        {
          "output_type": "stream",
          "name": "stdout",
          "text": [
            "second row is: [3, 4]\n",
            "Element at [2][1]: 6\n"
          ]
        }
      ]
    }
  ]
}