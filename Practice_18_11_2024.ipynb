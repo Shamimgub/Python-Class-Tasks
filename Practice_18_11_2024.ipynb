{
  "nbformat": 4,
  "nbformat_minor": 0,
  "metadata": {
    "colab": {
      "provenance": []
    },
    "kernelspec": {
      "name": "python3",
      "display_name": "Python 3"
    },
    "language_info": {
      "name": "python"
    }
  },
  "cells": [
    {
      "cell_type": "markdown",
      "source": [
        "1."
      ],
      "metadata": {
        "id": "vQKFR21SN_kE"
      }
    },
    {
      "cell_type": "code",
      "source": [
        "def is_Palindrome(string):\n",
        "    if (string == string[::-1]):\n",
        "        return \"The string is a palindrome.\"\n",
        "    else:\n",
        "        return \"The string is not a palindrome.\"\n",
        "\n",
        "\n",
        "string = input(\"Enter string: \")\n",
        "print(is_Palindrome(string))"
      ],
      "metadata": {
        "id": "OL-_LnN6OAXz"
      },
      "execution_count": null,
      "outputs": []
    },
    {
      "cell_type": "markdown",
      "source": [
        "2."
      ],
      "metadata": {
        "id": "q58ljXGWOBPD"
      }
    },
    {
      "cell_type": "code",
      "source": [],
      "metadata": {
        "id": "gZ1wo6c5OCFP"
      },
      "execution_count": 12,
      "outputs": []
    },
    {
      "cell_type": "markdown",
      "source": [
        "3."
      ],
      "metadata": {
        "id": "V5uilAJrOqX2"
      }
    },
    {
      "cell_type": "code",
      "source": [
        "def greet(name, greeting=\"Hello\"):\n",
        "    print(f\"{greeting}, {name}\")\n",
        "\n",
        "greet(\"Alice\")\n"
      ],
      "metadata": {
        "colab": {
          "base_uri": "https://localhost:8080/"
        },
        "id": "fRHdagLgOrKS",
        "outputId": "58fc07ac-c11f-49e8-8d5e-8cde052bc744"
      },
      "execution_count": 6,
      "outputs": [
        {
          "output_type": "stream",
          "name": "stdout",
          "text": [
            "Hello, Alice\n"
          ]
        }
      ]
    },
    {
      "cell_type": "markdown",
      "source": [
        "4."
      ],
      "metadata": {
        "id": "ZZakBgMsPZW5"
      }
    },
    {
      "cell_type": "code",
      "source": [
        "global_var = 10\n",
        "\n",
        "def my_function():\n",
        "    global_var = 5\n",
        "    print(\"Inside the function, global_var =\", global_var)\n",
        "\n",
        "my_function()\n",
        "\n",
        "print(\"Outside the function, global_var =\", global_var)"
      ],
      "metadata": {
        "colab": {
          "base_uri": "https://localhost:8080/"
        },
        "id": "YGG7bXClPcrM",
        "outputId": "fe27bffb-f039-4511-815a-2b19d0ac6e0d"
      },
      "execution_count": 7,
      "outputs": [
        {
          "output_type": "stream",
          "name": "stdout",
          "text": [
            "Inside the function, global_var = 5\n",
            "Outside the function, global_var = 10\n"
          ]
        }
      ]
    },
    {
      "cell_type": "markdown",
      "source": [
        "5."
      ],
      "metadata": {
        "id": "GNXLDn28Q2t8"
      }
    },
    {
      "cell_type": "code",
      "source": [
        "class rectengle:\n",
        "    def __init__(self, length, width):\n",
        "        self.length = length\n",
        "        self.width = width\n",
        "\n",
        "    def area(self):\n",
        "        return self.length * self.width\n",
        "\n",
        "\n",
        "\n",
        "rect = rectengle(5,3)\n",
        "print(rect.area())\n",
        "print(rect.width)"
      ],
      "metadata": {
        "colab": {
          "base_uri": "https://localhost:8080/"
        },
        "id": "q_3EahMaR3el",
        "outputId": "9e3f51b6-9d23-4484-ebd8-1611034075ba"
      },
      "execution_count": 10,
      "outputs": [
        {
          "output_type": "stream",
          "name": "stdout",
          "text": [
            "15\n",
            "3\n"
          ]
        }
      ]
    },
    {
      "cell_type": "markdown",
      "source": [
        "6."
      ],
      "metadata": {
        "id": "S8UyxKzbR8tj"
      }
    },
    {
      "cell_type": "code",
      "source": [
        "class animal:\n",
        "  def sound(self):\n",
        "    return \"animal sound\"\n",
        "class Dog(animal):\n",
        "  def sound(self):\n",
        "        return \"ghew ghew\"\n",
        "class Cat(animal):\n",
        "  def sound(self):\n",
        "        return \"meow meow\"\n",
        "\n",
        "dog= Dog()\n",
        "cat = Cat()\n",
        "print(dog.sound())\n",
        "print(cat.sound())\n"
      ],
      "metadata": {
        "colab": {
          "base_uri": "https://localhost:8080/",
          "height": 106
        },
        "id": "awKKbaF-R96r",
        "outputId": "f18cb9db-651b-447e-ee7e-bc3fca6ddbbc"
      },
      "execution_count": 24,
      "outputs": [
        {
          "output_type": "error",
          "ename": "IndentationError",
          "evalue": "unindent does not match any outer indentation level (<tokenize>, line 8)",
          "traceback": [
            "\u001b[0;36m  File \u001b[0;32m\"<tokenize>\"\u001b[0;36m, line \u001b[0;32m8\u001b[0m\n\u001b[0;31m    def sound(self):\u001b[0m\n\u001b[0m    ^\u001b[0m\n\u001b[0;31mIndentationError\u001b[0m\u001b[0;31m:\u001b[0m unindent does not match any outer indentation level\n"
          ]
        }
      ]
    },
    {
      "cell_type": "markdown",
      "source": [
        "7."
      ],
      "metadata": {
        "id": "XcT2bdV9VlBq"
      }
    },
    {
      "cell_type": "code",
      "source": [],
      "metadata": {
        "id": "my3etjxGVmKn"
      },
      "execution_count": null,
      "outputs": []
    }
  ]
}