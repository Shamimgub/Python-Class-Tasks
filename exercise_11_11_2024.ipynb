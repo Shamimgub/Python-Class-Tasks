{
  "nbformat": 4,
  "nbformat_minor": 0,
  "metadata": {
    "colab": {
      "provenance": []
    },
    "kernelspec": {
      "name": "python3",
      "display_name": "Python 3"
    },
    "language_info": {
      "name": "python"
    }
  },
  "cells": [
    {
      "cell_type": "markdown",
      "source": [
        "1. positive or negeative"
      ],
      "metadata": {
        "id": "xn_mbrG3yhsP"
      }
    },
    {
      "cell_type": "code",
      "source": [
        "num=float(input(\"Enter a number: \"))\n",
        "if num > 0:\n",
        "  print(\"Positive number\")\n",
        "elif num == 0:\n",
        "  print(\"Zero\")\n",
        "else:\n",
        "  print(\"Negetive number\")"
      ],
      "metadata": {
        "colab": {
          "base_uri": "https://localhost:8080/"
        },
        "id": "6DmWpPf_ylI2",
        "outputId": "ccaf86e2-9139-42c0-8aad-04b0004fb527"
      },
      "execution_count": 2,
      "outputs": [
        {
          "output_type": "stream",
          "name": "stdout",
          "text": [
            "Enter a number: 45\n",
            "Positive number\n"
          ]
        }
      ]
    },
    {
      "cell_type": "markdown",
      "source": [
        "2. Largest of three numbers"
      ],
      "metadata": {
        "id": "bR-XWQ3QzCQj"
      }
    },
    {
      "cell_type": "code",
      "source": [
        "num1=float(input(\"Enter 1st number:\"))\n",
        "num2=float(input(\"Enter 2nd number:\"))\n",
        "num3=float(input(\"Enter 3rd number:\"))\n",
        "largest= max(num1,num2,num3)\n",
        "print(\"The largest number is\",largest)\n"
      ],
      "metadata": {
        "colab": {
          "base_uri": "https://localhost:8080/"
        },
        "id": "i1IJS2u3zKbM",
        "outputId": "d8049761-8101-43f4-dc6e-e60ecfdd3364"
      },
      "execution_count": 3,
      "outputs": [
        {
          "output_type": "stream",
          "name": "stdout",
          "text": [
            "Enter 1st number:23\n",
            "Enter 2nd number:54\n",
            "Enter 3rd number:2\n",
            "The largest number is 54.0\n"
          ]
        }
      ]
    },
    {
      "cell_type": "markdown",
      "source": [
        "3. Grade Evaluation"
      ],
      "metadata": {
        "id": "xhH8VUEkzq1g"
      }
    },
    {
      "cell_type": "code",
      "source": [
        "score = float(input(\"Enter your score:\"))\n",
        "if score > 85:\n",
        "  print(\"Excellent\")\n",
        "elif score > 70:\n",
        "  print(\"Good\")\n",
        "else:\n",
        "  print(\"Study hard\")"
      ],
      "metadata": {
        "colab": {
          "base_uri": "https://localhost:8080/",
          "height": 356
        },
        "id": "Mx1BchmSzvgo",
        "outputId": "c69caedd-3f5e-47c6-fd74-3c35b68730dd"
      },
      "execution_count": 6,
      "outputs": [
        {
          "output_type": "error",
          "ename": "KeyboardInterrupt",
          "evalue": "Interrupted by user",
          "traceback": [
            "\u001b[0;31m---------------------------------------------------------------------------\u001b[0m",
            "\u001b[0;31mKeyboardInterrupt\u001b[0m                         Traceback (most recent call last)",
            "\u001b[0;32m<ipython-input-6-0fb56eccfb5b>\u001b[0m in \u001b[0;36m<cell line: 1>\u001b[0;34m()\u001b[0m\n\u001b[0;32m----> 1\u001b[0;31m \u001b[0mscore\u001b[0m \u001b[0;34m=\u001b[0m \u001b[0mfloat\u001b[0m\u001b[0;34m(\u001b[0m\u001b[0minput\u001b[0m\u001b[0;34m(\u001b[0m\u001b[0;34m\"Enter your score:\"\u001b[0m\u001b[0;34m)\u001b[0m\u001b[0;34m)\u001b[0m\u001b[0;34m\u001b[0m\u001b[0;34m\u001b[0m\u001b[0m\n\u001b[0m\u001b[1;32m      2\u001b[0m \u001b[0;32mif\u001b[0m \u001b[0mscore\u001b[0m \u001b[0;34m>\u001b[0m \u001b[0;36m85\u001b[0m\u001b[0;34m:\u001b[0m\u001b[0;34m\u001b[0m\u001b[0;34m\u001b[0m\u001b[0m\n\u001b[1;32m      3\u001b[0m   \u001b[0mprint\u001b[0m\u001b[0;34m(\u001b[0m\u001b[0;34m\"Excellent\"\u001b[0m\u001b[0;34m)\u001b[0m\u001b[0;34m\u001b[0m\u001b[0;34m\u001b[0m\u001b[0m\n\u001b[1;32m      4\u001b[0m \u001b[0;32melif\u001b[0m \u001b[0mscore\u001b[0m \u001b[0;34m>\u001b[0m \u001b[0;36m70\u001b[0m\u001b[0;34m:\u001b[0m\u001b[0;34m\u001b[0m\u001b[0;34m\u001b[0m\u001b[0m\n\u001b[1;32m      5\u001b[0m   \u001b[0mprint\u001b[0m\u001b[0;34m(\u001b[0m\u001b[0;34m\"Good\"\u001b[0m\u001b[0;34m)\u001b[0m\u001b[0;34m\u001b[0m\u001b[0;34m\u001b[0m\u001b[0m\n",
            "\u001b[0;32m/usr/local/lib/python3.10/dist-packages/ipykernel/kernelbase.py\u001b[0m in \u001b[0;36mraw_input\u001b[0;34m(self, prompt)\u001b[0m\n\u001b[1;32m    849\u001b[0m                 \u001b[0;34m\"raw_input was called, but this frontend does not support input requests.\"\u001b[0m\u001b[0;34m\u001b[0m\u001b[0;34m\u001b[0m\u001b[0m\n\u001b[1;32m    850\u001b[0m             )\n\u001b[0;32m--> 851\u001b[0;31m         return self._input_request(str(prompt),\n\u001b[0m\u001b[1;32m    852\u001b[0m             \u001b[0mself\u001b[0m\u001b[0;34m.\u001b[0m\u001b[0m_parent_ident\u001b[0m\u001b[0;34m,\u001b[0m\u001b[0;34m\u001b[0m\u001b[0;34m\u001b[0m\u001b[0m\n\u001b[1;32m    853\u001b[0m             \u001b[0mself\u001b[0m\u001b[0;34m.\u001b[0m\u001b[0m_parent_header\u001b[0m\u001b[0;34m,\u001b[0m\u001b[0;34m\u001b[0m\u001b[0;34m\u001b[0m\u001b[0m\n",
            "\u001b[0;32m/usr/local/lib/python3.10/dist-packages/ipykernel/kernelbase.py\u001b[0m in \u001b[0;36m_input_request\u001b[0;34m(self, prompt, ident, parent, password)\u001b[0m\n\u001b[1;32m    893\u001b[0m             \u001b[0;32mexcept\u001b[0m \u001b[0mKeyboardInterrupt\u001b[0m\u001b[0;34m:\u001b[0m\u001b[0;34m\u001b[0m\u001b[0;34m\u001b[0m\u001b[0m\n\u001b[1;32m    894\u001b[0m                 \u001b[0;31m# re-raise KeyboardInterrupt, to truncate traceback\u001b[0m\u001b[0;34m\u001b[0m\u001b[0;34m\u001b[0m\u001b[0m\n\u001b[0;32m--> 895\u001b[0;31m                 \u001b[0;32mraise\u001b[0m \u001b[0mKeyboardInterrupt\u001b[0m\u001b[0;34m(\u001b[0m\u001b[0;34m\"Interrupted by user\"\u001b[0m\u001b[0;34m)\u001b[0m \u001b[0;32mfrom\u001b[0m \u001b[0;32mNone\u001b[0m\u001b[0;34m\u001b[0m\u001b[0;34m\u001b[0m\u001b[0m\n\u001b[0m\u001b[1;32m    896\u001b[0m             \u001b[0;32mexcept\u001b[0m \u001b[0mException\u001b[0m \u001b[0;32mas\u001b[0m \u001b[0me\u001b[0m\u001b[0;34m:\u001b[0m\u001b[0;34m\u001b[0m\u001b[0;34m\u001b[0m\u001b[0m\n\u001b[1;32m    897\u001b[0m                 \u001b[0mself\u001b[0m\u001b[0;34m.\u001b[0m\u001b[0mlog\u001b[0m\u001b[0;34m.\u001b[0m\u001b[0mwarning\u001b[0m\u001b[0;34m(\u001b[0m\u001b[0;34m\"Invalid Message:\"\u001b[0m\u001b[0;34m,\u001b[0m \u001b[0mexc_info\u001b[0m\u001b[0;34m=\u001b[0m\u001b[0;32mTrue\u001b[0m\u001b[0;34m)\u001b[0m\u001b[0;34m\u001b[0m\u001b[0;34m\u001b[0m\u001b[0m\n",
            "\u001b[0;31mKeyboardInterrupt\u001b[0m: Interrupted by user"
          ]
        }
      ]
    },
    {
      "cell_type": "markdown",
      "source": [
        "4. simple interest calculator"
      ],
      "metadata": {
        "id": "pSNgAO0J0X-f"
      }
    },
    {
      "cell_type": "code",
      "source": [
        "p = float(input(\"Enter principle ammount: \"))\n",
        "r = float(input(\"Enter rate of interest in percent: \")) / 100\n",
        "t = float(input(\"Enter time in years: \"))\n",
        "interest = (p*r*t)\n",
        "print(\"The simple interest is\",interest)"
      ],
      "metadata": {
        "id": "oEXhXNaV0yX8"
      },
      "execution_count": null,
      "outputs": []
    },
    {
      "cell_type": "markdown",
      "source": [
        "5. Even numbers in range"
      ],
      "metadata": {
        "id": "3lAkOD5c1Zq7"
      }
    },
    {
      "cell_type": "code",
      "source": [
        "print(\"Even numbers from 1 to 100:\")\n",
        "for i in range(1, 101):\n",
        "  if i % 2 == 0:\n",
        "    print(i)"
      ],
      "metadata": {
        "colab": {
          "base_uri": "https://localhost:8080/"
        },
        "id": "aAVv-7FH1dLw",
        "outputId": "c28b538e-f99f-4de3-e621-0213f6521444"
      },
      "execution_count": 10,
      "outputs": [
        {
          "output_type": "stream",
          "name": "stdout",
          "text": [
            "Even numbers from 1 to 100:\n",
            "2\n",
            "4\n",
            "6\n",
            "8\n",
            "10\n",
            "12\n",
            "14\n",
            "16\n",
            "18\n",
            "20\n",
            "22\n",
            "24\n",
            "26\n",
            "28\n",
            "30\n",
            "32\n",
            "34\n",
            "36\n",
            "38\n",
            "40\n",
            "42\n",
            "44\n",
            "46\n",
            "48\n",
            "50\n",
            "52\n",
            "54\n",
            "56\n",
            "58\n",
            "60\n",
            "62\n",
            "64\n",
            "66\n",
            "68\n",
            "70\n",
            "72\n",
            "74\n",
            "76\n",
            "78\n",
            "80\n",
            "82\n",
            "84\n",
            "86\n",
            "88\n",
            "90\n",
            "92\n",
            "94\n",
            "96\n",
            "98\n",
            "100\n"
          ]
        }
      ]
    },
    {
      "cell_type": "markdown",
      "source": [
        "6. Multiple numbers"
      ],
      "metadata": {
        "id": "1mAwxSpu2FDu"
      }
    },
    {
      "cell_type": "code",
      "source": [
        "mul = int(input(\"Enter a number: \"))\n",
        "print(f\"The multiples of {mul} are:\")\n",
        "for i in range(1, 101):\n",
        "  print(mul * i)"
      ],
      "metadata": {
        "colab": {
          "base_uri": "https://localhost:8080/"
        },
        "id": "waGzIbp72Ii0",
        "outputId": "8591079a-cc2f-414d-abe4-9dfa61ed63f6"
      },
      "execution_count": 11,
      "outputs": [
        {
          "output_type": "stream",
          "name": "stdout",
          "text": [
            "Enter a number: 5\n",
            "The multiples of 5 are:\n",
            "5\n",
            "10\n",
            "15\n",
            "20\n",
            "25\n",
            "30\n",
            "35\n",
            "40\n",
            "45\n",
            "50\n",
            "55\n",
            "60\n",
            "65\n",
            "70\n",
            "75\n",
            "80\n",
            "85\n",
            "90\n",
            "95\n",
            "100\n",
            "105\n",
            "110\n",
            "115\n",
            "120\n",
            "125\n",
            "130\n",
            "135\n",
            "140\n",
            "145\n",
            "150\n",
            "155\n",
            "160\n",
            "165\n",
            "170\n",
            "175\n",
            "180\n",
            "185\n",
            "190\n",
            "195\n",
            "200\n",
            "205\n",
            "210\n",
            "215\n",
            "220\n",
            "225\n",
            "230\n",
            "235\n",
            "240\n",
            "245\n",
            "250\n",
            "255\n",
            "260\n",
            "265\n",
            "270\n",
            "275\n",
            "280\n",
            "285\n",
            "290\n",
            "295\n",
            "300\n",
            "305\n",
            "310\n",
            "315\n",
            "320\n",
            "325\n",
            "330\n",
            "335\n",
            "340\n",
            "345\n",
            "350\n",
            "355\n",
            "360\n",
            "365\n",
            "370\n",
            "375\n",
            "380\n",
            "385\n",
            "390\n",
            "395\n",
            "400\n",
            "405\n",
            "410\n",
            "415\n",
            "420\n",
            "425\n",
            "430\n",
            "435\n",
            "440\n",
            "445\n",
            "450\n",
            "455\n",
            "460\n",
            "465\n",
            "470\n",
            "475\n",
            "480\n",
            "485\n",
            "490\n",
            "495\n",
            "500\n"
          ]
        }
      ]
    },
    {
      "cell_type": "markdown",
      "source": [
        "7. Countdown from agiven number"
      ],
      "metadata": {
        "id": "mpboZgFR2kuI"
      }
    },
    {
      "cell_type": "code",
      "source": [
        "countdown = int(input(\"Enter a number: \"))\n",
        "while countdown >= 0:\n",
        "  print(countdown)\n",
        "  countdown -= 1\n"
      ],
      "metadata": {
        "colab": {
          "base_uri": "https://localhost:8080/"
        },
        "id": "lKI5_SpI2xub",
        "outputId": "0f67739d-acc7-4671-89f4-9f14e0514415"
      },
      "execution_count": 14,
      "outputs": [
        {
          "output_type": "stream",
          "name": "stdout",
          "text": [
            "Enter a number: 12\n",
            "12\n",
            "11\n",
            "10\n",
            "9\n",
            "8\n",
            "7\n",
            "6\n",
            "5\n",
            "4\n",
            "3\n",
            "2\n",
            "1\n",
            "0\n"
          ]
        }
      ]
    },
    {
      "cell_type": "markdown",
      "source": [
        "8. Factorial calculation"
      ],
      "metadata": {
        "id": "ZBn0muwB3Uu3"
      }
    },
    {
      "cell_type": "code",
      "source": [
        "num = int(input(\"Enter a number: \"))\n",
        "factorial = 1\n",
        "for i in range(1, num + 1):\n",
        "  factorial *= i\n",
        "  print(\"The factorial of\",num,\"is\",factorial)"
      ],
      "metadata": {
        "colab": {
          "base_uri": "https://localhost:8080/"
        },
        "id": "LjbwyyR33aWv",
        "outputId": "0daf15ea-bb54-4599-83d1-204c45b15ec8"
      },
      "execution_count": 15,
      "outputs": [
        {
          "output_type": "stream",
          "name": "stdout",
          "text": [
            "Enter a number: 5\n",
            "The factorial of 5 is 1\n",
            "The factorial of 5 is 2\n",
            "The factorial of 5 is 6\n",
            "The factorial of 5 is 24\n",
            "The factorial of 5 is 120\n"
          ]
        }
      ]
    },
    {
      "cell_type": "markdown",
      "source": [
        "9. Sum of natural mumber"
      ],
      "metadata": {
        "id": "NxI5S_pq4RQ0"
      }
    },
    {
      "cell_type": "code",
      "source": [
        "n = int(input(\"Enter a number: \"))\n",
        "total = 0\n",
        "for i in range(1, n + 1):\n",
        "  total += i\n",
        "  print(\"The sum of natural numbers up to\",n,\"is\",total)"
      ],
      "metadata": {
        "colab": {
          "base_uri": "https://localhost:8080/"
        },
        "id": "HDUbIFj-4VVw",
        "outputId": "1d528f88-af31-4b0a-87df-7738c17028e2"
      },
      "execution_count": 16,
      "outputs": [
        {
          "output_type": "stream",
          "name": "stdout",
          "text": [
            "Enter a number: 21\n",
            "The sum of natural numbers up to 21 is 1\n",
            "The sum of natural numbers up to 21 is 3\n",
            "The sum of natural numbers up to 21 is 6\n",
            "The sum of natural numbers up to 21 is 10\n",
            "The sum of natural numbers up to 21 is 15\n",
            "The sum of natural numbers up to 21 is 21\n",
            "The sum of natural numbers up to 21 is 28\n",
            "The sum of natural numbers up to 21 is 36\n",
            "The sum of natural numbers up to 21 is 45\n",
            "The sum of natural numbers up to 21 is 55\n",
            "The sum of natural numbers up to 21 is 66\n",
            "The sum of natural numbers up to 21 is 78\n",
            "The sum of natural numbers up to 21 is 91\n",
            "The sum of natural numbers up to 21 is 105\n",
            "The sum of natural numbers up to 21 is 120\n",
            "The sum of natural numbers up to 21 is 136\n",
            "The sum of natural numbers up to 21 is 153\n",
            "The sum of natural numbers up to 21 is 171\n",
            "The sum of natural numbers up to 21 is 190\n",
            "The sum of natural numbers up to 21 is 210\n",
            "The sum of natural numbers up to 21 is 231\n"
          ]
        }
      ]
    },
    {
      "cell_type": "markdown",
      "source": [
        "10. prime number checker"
      ],
      "metadata": {
        "id": "Xsi4bNZ94u6y"
      }
    },
    {
      "cell_type": "code",
      "source": [
        "num = int(input(\"Enter a number: \"))\n",
        "if num > 1:\n",
        "  for i in range(2, int(num ** 0.5) +1):\n",
        "    if num % i == 0:\n",
        "      print(num,\"is not a prime number\")\n",
        "      break\n",
        "  else:\n",
        "    print(num,\"is a prime number\")\n",
        "else:\n",
        "  print(num,\"is not a prime number\")\n"
      ],
      "metadata": {
        "colab": {
          "base_uri": "https://localhost:8080/"
        },
        "id": "67vXfT4u4xta",
        "outputId": "2edd098f-72de-45b4-d04b-1dc7a75ddf6c"
      },
      "execution_count": 17,
      "outputs": [
        {
          "output_type": "stream",
          "name": "stdout",
          "text": [
            "Enter a number: 2\n",
            "2 is a prime number\n"
          ]
        }
      ]
    },
    {
      "cell_type": "markdown",
      "source": [
        "11. Fibonacci Sequence"
      ],
      "metadata": {
        "id": "Xi4hQ1Rk56zt"
      }
    },
    {
      "cell_type": "code",
      "source": [
        "num = int(input(\"Enter the number of terms: \"))\n",
        "a, b = 0, 1\n",
        "print(\"Fibonacci series:\")\n",
        "for i in range(num):\n",
        "  print(a, end='')\n",
        "  a, b = b, a + b\n",
        "print()"
      ],
      "metadata": {
        "colab": {
          "base_uri": "https://localhost:8080/"
        },
        "id": "oS4gcJFT6CXy",
        "outputId": "01304836-7335-42fd-8257-f14458629676"
      },
      "execution_count": 21,
      "outputs": [
        {
          "output_type": "stream",
          "name": "stdout",
          "text": [
            "Enter the number of terms: 6\n",
            "Fibonacci series:\n",
            "011235\n"
          ]
        }
      ]
    },
    {
      "cell_type": "markdown",
      "source": [
        "Vowel or consonant"
      ],
      "metadata": {
        "id": "6MGeeO9z7IRS"
      }
    },
    {
      "cell_type": "code",
      "source": [
        "char = input(\"Enter a character: \").lower()\n",
        "if char in 'aeiou':\n",
        "  print(char,\"is a vowel\")\n",
        "else:\n",
        "    print(char,\"is a consonant\")"
      ],
      "metadata": {
        "colab": {
          "base_uri": "https://localhost:8080/"
        },
        "id": "cGYIpupP7Nnx",
        "outputId": "526c8c40-79b3-4a5d-b79f-b2041b6da3a5"
      },
      "execution_count": 22,
      "outputs": [
        {
          "output_type": "stream",
          "name": "stdout",
          "text": [
            "Enter a character: w\n",
            "w is a consonant\n"
          ]
        }
      ]
    },
    {
      "cell_type": "markdown",
      "source": [
        "13. Guess the number Game"
      ],
      "metadata": {
        "id": "F8f03gbx7p-Z"
      }
    },
    {
      "cell_type": "code",
      "source": [
        "import random\n",
        "numguess = random.randint(1, 100)\n",
        "guess = None\n",
        "while guess != numguess:\n",
        "  guess = int(input(\"Guess the number between 1 and 100: \"))\n",
        "  if guess < numguess:\n",
        "    print(\"TRY AGAIN\")\n",
        "  elif guess > numguess:\n",
        "    print(\"TRY AGAIN\")\n",
        "  else:\n",
        "    print(\"CONGRATULATIONS\")"
      ],
      "metadata": {
        "colab": {
          "base_uri": "https://localhost:8080/",
          "height": 495
        },
        "id": "S4IQL64z7xom",
        "outputId": "0c2cc1d4-7145-4f2b-f42a-caf9c5e47c32"
      },
      "execution_count": 26,
      "outputs": [
        {
          "output_type": "stream",
          "name": "stdout",
          "text": [
            "Guess the number between 1 and 100: 34\n",
            "TRY AGAIN\n",
            "Guess the number between 1 and 100: 56\n",
            "TRY AGAIN\n",
            "Guess the number between 1 and 100: 100\n",
            "TRY AGAIN\n",
            "Guess the number between 1 and 100: 34\n",
            "TRY AGAIN\n"
          ]
        },
        {
          "output_type": "error",
          "ename": "KeyboardInterrupt",
          "evalue": "Interrupted by user",
          "traceback": [
            "\u001b[0;31m---------------------------------------------------------------------------\u001b[0m",
            "\u001b[0;31mKeyboardInterrupt\u001b[0m                         Traceback (most recent call last)",
            "\u001b[0;32m<ipython-input-26-cb33beb3c41b>\u001b[0m in \u001b[0;36m<cell line: 4>\u001b[0;34m()\u001b[0m\n\u001b[1;32m      3\u001b[0m \u001b[0mguess\u001b[0m \u001b[0;34m=\u001b[0m \u001b[0;32mNone\u001b[0m\u001b[0;34m\u001b[0m\u001b[0;34m\u001b[0m\u001b[0m\n\u001b[1;32m      4\u001b[0m \u001b[0;32mwhile\u001b[0m \u001b[0mguess\u001b[0m \u001b[0;34m!=\u001b[0m \u001b[0mnumguess\u001b[0m\u001b[0;34m:\u001b[0m\u001b[0;34m\u001b[0m\u001b[0;34m\u001b[0m\u001b[0m\n\u001b[0;32m----> 5\u001b[0;31m   \u001b[0mguess\u001b[0m \u001b[0;34m=\u001b[0m \u001b[0mint\u001b[0m\u001b[0;34m(\u001b[0m\u001b[0minput\u001b[0m\u001b[0;34m(\u001b[0m\u001b[0;34m\"Guess the number between 1 and 100: \"\u001b[0m\u001b[0;34m)\u001b[0m\u001b[0;34m)\u001b[0m\u001b[0;34m\u001b[0m\u001b[0;34m\u001b[0m\u001b[0m\n\u001b[0m\u001b[1;32m      6\u001b[0m   \u001b[0;32mif\u001b[0m \u001b[0mguess\u001b[0m \u001b[0;34m<\u001b[0m \u001b[0mnumguess\u001b[0m\u001b[0;34m:\u001b[0m\u001b[0;34m\u001b[0m\u001b[0;34m\u001b[0m\u001b[0m\n\u001b[1;32m      7\u001b[0m     \u001b[0mprint\u001b[0m\u001b[0;34m(\u001b[0m\u001b[0;34m\"TRY AGAIN\"\u001b[0m\u001b[0;34m)\u001b[0m\u001b[0;34m\u001b[0m\u001b[0;34m\u001b[0m\u001b[0m\n",
            "\u001b[0;32m/usr/local/lib/python3.10/dist-packages/ipykernel/kernelbase.py\u001b[0m in \u001b[0;36mraw_input\u001b[0;34m(self, prompt)\u001b[0m\n\u001b[1;32m    849\u001b[0m                 \u001b[0;34m\"raw_input was called, but this frontend does not support input requests.\"\u001b[0m\u001b[0;34m\u001b[0m\u001b[0;34m\u001b[0m\u001b[0m\n\u001b[1;32m    850\u001b[0m             )\n\u001b[0;32m--> 851\u001b[0;31m         return self._input_request(str(prompt),\n\u001b[0m\u001b[1;32m    852\u001b[0m             \u001b[0mself\u001b[0m\u001b[0;34m.\u001b[0m\u001b[0m_parent_ident\u001b[0m\u001b[0;34m,\u001b[0m\u001b[0;34m\u001b[0m\u001b[0;34m\u001b[0m\u001b[0m\n\u001b[1;32m    853\u001b[0m             \u001b[0mself\u001b[0m\u001b[0;34m.\u001b[0m\u001b[0m_parent_header\u001b[0m\u001b[0;34m,\u001b[0m\u001b[0;34m\u001b[0m\u001b[0;34m\u001b[0m\u001b[0m\n",
            "\u001b[0;32m/usr/local/lib/python3.10/dist-packages/ipykernel/kernelbase.py\u001b[0m in \u001b[0;36m_input_request\u001b[0;34m(self, prompt, ident, parent, password)\u001b[0m\n\u001b[1;32m    893\u001b[0m             \u001b[0;32mexcept\u001b[0m \u001b[0mKeyboardInterrupt\u001b[0m\u001b[0;34m:\u001b[0m\u001b[0;34m\u001b[0m\u001b[0;34m\u001b[0m\u001b[0m\n\u001b[1;32m    894\u001b[0m                 \u001b[0;31m# re-raise KeyboardInterrupt, to truncate traceback\u001b[0m\u001b[0;34m\u001b[0m\u001b[0;34m\u001b[0m\u001b[0m\n\u001b[0;32m--> 895\u001b[0;31m                 \u001b[0;32mraise\u001b[0m \u001b[0mKeyboardInterrupt\u001b[0m\u001b[0;34m(\u001b[0m\u001b[0;34m\"Interrupted by user\"\u001b[0m\u001b[0;34m)\u001b[0m \u001b[0;32mfrom\u001b[0m \u001b[0;32mNone\u001b[0m\u001b[0;34m\u001b[0m\u001b[0;34m\u001b[0m\u001b[0m\n\u001b[0m\u001b[1;32m    896\u001b[0m             \u001b[0;32mexcept\u001b[0m \u001b[0mException\u001b[0m \u001b[0;32mas\u001b[0m \u001b[0me\u001b[0m\u001b[0;34m:\u001b[0m\u001b[0;34m\u001b[0m\u001b[0;34m\u001b[0m\u001b[0m\n\u001b[1;32m    897\u001b[0m                 \u001b[0mself\u001b[0m\u001b[0;34m.\u001b[0m\u001b[0mlog\u001b[0m\u001b[0;34m.\u001b[0m\u001b[0mwarning\u001b[0m\u001b[0;34m(\u001b[0m\u001b[0;34m\"Invalid Message:\"\u001b[0m\u001b[0;34m,\u001b[0m \u001b[0mexc_info\u001b[0m\u001b[0;34m=\u001b[0m\u001b[0;32mTrue\u001b[0m\u001b[0;34m)\u001b[0m\u001b[0;34m\u001b[0m\u001b[0;34m\u001b[0m\u001b[0m\n",
            "\u001b[0;31mKeyboardInterrupt\u001b[0m: Interrupted by user"
          ]
        }
      ]
    },
    {
      "cell_type": "markdown",
      "source": [
        "14. Multipication Table"
      ],
      "metadata": {
        "id": "CgWtK0pQ9Bg_"
      }
    },
    {
      "cell_type": "code",
      "source": [
        "num = int(input(\"Enter a number: \"))\n",
        "print(f\"The multiplication table of {num} is:\")\n",
        "for i in range(1, 11):\n",
        "  print(f\"{num} x {i} = {num * i}\")"
      ],
      "metadata": {
        "id": "oLSRv5A79F-U"
      },
      "execution_count": null,
      "outputs": []
    },
    {
      "cell_type": "markdown",
      "source": [
        "15. Count Occurences of a charector"
      ],
      "metadata": {
        "id": "UBQp6sQH9TMU"
      }
    },
    {
      "cell_type": "code",
      "source": [
        "string = input(\"Enter a string: \")\n",
        "char = input(\"Enter a character: \")\n",
        "count = string.count(char)\n",
        "print(f\"The character '{char}' appears {count} times in the string.\")"
      ],
      "metadata": {
        "id": "Ngygw_hN9Y_P"
      },
      "execution_count": null,
      "outputs": []
    },
    {
      "cell_type": "markdown",
      "source": [
        "16. check for Palindrome"
      ],
      "metadata": {
        "id": "RZehrug49p2S"
      }
    },
    {
      "cell_type": "code",
      "source": [
        "char = input(\"Enter a string: \")\n",
        "if char == char[::-1]:\n",
        "  print(\"The string is a palindrome\")\n",
        "  else:\n",
        "    print(\"The string is not a palindrome\")"
      ],
      "metadata": {
        "id": "h4ks-QZF9w3l"
      },
      "execution_count": null,
      "outputs": []
    },
    {
      "cell_type": "markdown",
      "source": [
        "17. Simple Calculator"
      ],
      "metadata": {
        "id": "PxTKQ4IP-dG2"
      }
    },
    {
      "cell_type": "code",
      "source": [
        "def calculator ():\n",
        "  num1 = float(input(\"Enter first number: \"))\n",
        "  num2 = float(input(\"Enter second number: \"))\n",
        "  operation = input(\"Enter operation (+, -, *, /): \")\n",
        "  if operation == \"+\":\n",
        "    result = num1 + num2\n",
        "  elif operation == \"-\":\n",
        "    result = num1 - num2\n",
        "  elif operation == \"*\":\n",
        "    result = num1 * num2\n",
        "  elif operation == \"/\":\n",
        "    result = num1 / num2\n",
        "  if num2 == 0 and operation == \"/\":\n",
        "    print(\"Error: Division by zero\")\n",
        "  else:\n",
        "    print(\"Result:\", result)\n",
        "calculator()"
      ],
      "metadata": {
        "colab": {
          "base_uri": "https://localhost:8080/"
        },
        "id": "8B_W51A2-naE",
        "outputId": "d2e46076-cefe-44ff-b677-fe6a97277e10"
      },
      "execution_count": 27,
      "outputs": [
        {
          "output_type": "stream",
          "name": "stdout",
          "text": [
            "Enter first number: 12\n",
            "Enter second number: 3\n",
            "Enter operation (+, -, *, /): +\n",
            "Result: 15.0\n"
          ]
        }
      ]
    },
    {
      "cell_type": "markdown",
      "source": [
        "18. Pattern Printing"
      ],
      "metadata": {
        "id": "5S8RWAXX_iby"
      }
    },
    {
      "cell_type": "code",
      "source": [
        "h = int(input(\"Enter the height of the pattern: \"))\n",
        "for i in range(h):\n",
        "  print ('' * (h - i - 1) + '*' * (2 * i + 1))"
      ],
      "metadata": {
        "colab": {
          "base_uri": "https://localhost:8080/"
        },
        "id": "KbfT2UQC_lwM",
        "outputId": "cd2f0924-5c42-438a-c212-79b14a3daf9c"
      },
      "execution_count": 28,
      "outputs": [
        {
          "output_type": "stream",
          "name": "stdout",
          "text": [
            "Enter the height of the pattern: 34\n",
            "*\n",
            "***\n",
            "*****\n",
            "*******\n",
            "*********\n",
            "***********\n",
            "*************\n",
            "***************\n",
            "*****************\n",
            "*******************\n",
            "*********************\n",
            "***********************\n",
            "*************************\n",
            "***************************\n",
            "*****************************\n",
            "*******************************\n",
            "*********************************\n",
            "***********************************\n",
            "*************************************\n",
            "***************************************\n",
            "*****************************************\n",
            "*******************************************\n",
            "*********************************************\n",
            "***********************************************\n",
            "*************************************************\n",
            "***************************************************\n",
            "*****************************************************\n",
            "*******************************************************\n",
            "*********************************************************\n",
            "***********************************************************\n",
            "*************************************************************\n",
            "***************************************************************\n",
            "*****************************************************************\n",
            "*******************************************************************\n"
          ]
        }
      ]
    },
    {
      "cell_type": "markdown",
      "source": [
        "19. Sum of odd numbers:"
      ],
      "metadata": {
        "id": "0fFDOYuEAFzv"
      }
    },
    {
      "cell_type": "code",
      "source": [
        "n = int (input(\"Enter a number:\"))\n",
        "total = sum(i for i in range(1, n + 1, 2))\n",
        "print(\"The sum of odd numbers up to\",n,\"is\",total)"
      ],
      "metadata": {
        "colab": {
          "base_uri": "https://localhost:8080/"
        },
        "id": "vWndxGHzAJR8",
        "outputId": "76441617-ce74-4bdb-eb28-b80d771b50cd"
      },
      "execution_count": 29,
      "outputs": [
        {
          "output_type": "stream",
          "name": "stdout",
          "text": [
            "Enter a number:12\n",
            "The sum of odd numbers up to 12 is 36\n"
          ]
        }
      ]
    },
    {
      "cell_type": "markdown",
      "source": [
        "20. Dys in a month"
      ],
      "metadata": {
        "id": "3EkEcvo0Afqh"
      }
    },
    {
      "cell_type": "code",
      "source": [
        "month = input(\"Enter a month\")\n",
        "year = int(input(\"enter a year:\"))\n",
        "month = input(\"Enter a month\")\n",
        "year = int(input(\"enter a year:\"))\n",
        "\n",
        "if month == \"2\":\n",
        "           if (year % 4 == 0 and year % 100 != 0) or (year % 400 == 0):\n",
        "            print(\"February has 29 days\")\n",
        "           else:\n",
        "            print(\"February has 28 days\")\n",
        "elif month in [\"4\", \"6\", \"9\", \"11\"]:\n",
        "           print(month,\"has 30 days\")\n",
        "else:\n",
        "           print(month,\"has 31 days\")\n",
        "\n",
        "\n",
        "            print(\"February has 28 days\")\n",
        "elif month in [\"4\", \"6\", \"9\", \"11\"]:\n",
        "           print(month,\"has 30 days\")\n",
        "else:\n",
        "           print(month,\"has 31 days\")\n",
        "           if (year 4 == 0 and year % 100 != 0) or (year % 400 == 0):\n",
        "            print(\"February has 29 days\")\n",
        "            print(\"February has 28 days\")\n",
        "eli month in [4, 6, 9, 11]:\n",
        "           print(month,\"has 30 days\")\n",
        "else:\n",
        "           print(month,\"has 31 days\")"
      ],
      "metadata": {
        "colab": {
          "base_uri": "https://localhost:8080/",
          "height": 106
        },
        "id": "6E4R9In9Aing",
        "outputId": "7e0d80ca-5607-4266-c7f9-5102a3c2e8ff"
      },
      "execution_count": 31,
      "outputs": [
        {
          "output_type": "error",
          "ename": "SyntaxError",
          "evalue": "invalid syntax. Perhaps you forgot a comma? (<ipython-input-31-32f3b13a3e49>, line 5)",
          "traceback": [
            "\u001b[0;36m  File \u001b[0;32m\"<ipython-input-31-32f3b13a3e49>\"\u001b[0;36m, line \u001b[0;32m5\u001b[0m\n\u001b[0;31m    if (year 4 == 0 and year % 100 != 0) or (year % 400 == 0):\u001b[0m\n\u001b[0m        ^\u001b[0m\n\u001b[0;31mSyntaxError\u001b[0m\u001b[0;31m:\u001b[0m invalid syntax. Perhaps you forgot a comma?\n"
          ]
        }
      ]
    }
  ]
}