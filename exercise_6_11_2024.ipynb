{
  "nbformat": 4,
  "nbformat_minor": 0,
  "metadata": {
    "colab": {
      "provenance": []
    },
    "kernelspec": {
      "name": "python3",
      "display_name": "Python 3"
    },
    "language_info": {
      "name": "python"
    }
  },
  "cells": [
    {
      "cell_type": "markdown",
      "source": [
        "1. List manupulation"
      ],
      "metadata": {
        "id": "cVyW4raLalXY"
      }
    },
    {
      "cell_type": "code",
      "source": [
        "movies =[\"interception\", \"Borat\", \"iron_man\", \"the_godfather\", \"iron_man2\"]\n",
        "print(\"second movie is:\", movies[1])\n",
        "movies.append(\"ip_man\")\n",
        "print(movies)\n",
        "movies.remove(\"interception\")\n",
        "print(movies)"
      ],
      "metadata": {
        "colab": {
          "base_uri": "https://localhost:8080/"
        },
        "id": "8ady--JgapBX",
        "outputId": "0df16e8c-e915-4712-8f29-d720e9870cc1"
      },
      "execution_count": 8,
      "outputs": [
        {
          "output_type": "stream",
          "name": "stdout",
          "text": [
            "second movie is: Borat\n",
            "['interception', 'Borat', 'iron_man', 'the_godfather', 'iron_man2', 'ip_man']\n",
            "['Borat', 'iron_man', 'the_godfather', 'iron_man2', 'ip_man']\n"
          ]
        }
      ]
    },
    {
      "cell_type": "markdown",
      "source": [
        "2. Dictionary operations"
      ],
      "metadata": {
        "id": "WeoR3xlFcS00"
      }
    },
    {
      "cell_type": "code",
      "source": [
        "book1={\"title\":\"Holud_himu_kalo_rab\",\"Author\":\"Humayon_Ahamed\",\"Year\":2012,\"genere\":\"fiction\"}\n",
        "print(\"title of the book is:\", book1[\"title\"])\n",
        "book1['Year']=2024\n",
        "print(book1)\n"
      ],
      "metadata": {
        "colab": {
          "base_uri": "https://localhost:8080/"
        },
        "id": "4CbDh2pEcWT0",
        "outputId": "039399e0-6a8d-4bec-95b3-633c99384e68"
      },
      "execution_count": 13,
      "outputs": [
        {
          "output_type": "stream",
          "name": "stdout",
          "text": [
            "title of the book is: Holud_himu_kalo_rab\n",
            "{'title': 'Holud_himu_kalo_rab', 'Author': 'Humayon_Ahamed', 'Year': 2024, 'genere': 'fiction'}\n"
          ]
        }
      ]
    },
    {
      "cell_type": "markdown",
      "source": [
        "3. Tuple unpacking"
      ],
      "metadata": {
        "id": "NxszJS3KeP2e"
      }
    },
    {
      "cell_type": "code",
      "source": [
        "tuple=(\"shamim\",25,23.4)\n",
        "string,integer,float=tuple\n",
        "print(string)\n",
        "print(integer)\n",
        "print(float)\n"
      ],
      "metadata": {
        "colab": {
          "base_uri": "https://localhost:8080/"
        },
        "id": "LrJiG_UweS6l",
        "outputId": "237a3110-4a08-4ec3-f6a9-0ed35ba1d897"
      },
      "execution_count": 14,
      "outputs": [
        {
          "output_type": "stream",
          "name": "stdout",
          "text": [
            "shamim\n",
            "25\n",
            "23.4\n"
          ]
        }
      ]
    },
    {
      "cell_type": "markdown",
      "source": [
        "4. Set operations"
      ],
      "metadata": {
        "id": "BMLkowSxfBFN"
      }
    },
    {
      "cell_type": "code",
      "source": [
        "set1={1,3,5,6,9}\n",
        "set2={1,2,3}\n",
        "syemmetric_difference=set1.symmetric_difference(set2)\n",
        "print(syemmetric_difference)"
      ],
      "metadata": {
        "colab": {
          "base_uri": "https://localhost:8080/"
        },
        "id": "dArMlb2LfE9D",
        "outputId": "b9ba6752-d805-483b-800a-4235c1c0c9c0"
      },
      "execution_count": 15,
      "outputs": [
        {
          "output_type": "stream",
          "name": "stdout",
          "text": [
            "{2, 5, 6, 9}\n"
          ]
        }
      ]
    },
    {
      "cell_type": "markdown",
      "source": [
        "5. String formatting\n"
      ],
      "metadata": {
        "id": "iaLH-qjEfh6M"
      }
    },
    {
      "cell_type": "code",
      "source": [
        "first_name= input(\"enter your first name:\")\n",
        "last_name= input(\"enter your last name:\")\n",
        "print(f\"hello {first_name} {last_name}!\")"
      ],
      "metadata": {
        "colab": {
          "base_uri": "https://localhost:8080/"
        },
        "id": "wFWo6X77foBX",
        "outputId": "ba88d88b-0fd6-4759-faf2-54fd01883546"
      },
      "execution_count": 17,
      "outputs": [
        {
          "output_type": "stream",
          "name": "stdout",
          "text": [
            "enter your first name:shamim\n",
            "enter your last name:ahamed\n",
            "hello shamim ahamed!\n"
          ]
        }
      ]
    },
    {
      "cell_type": "markdown",
      "source": [
        "6. List comprehension"
      ],
      "metadata": {
        "id": "SYbftpdzgj3L"
      }
    },
    {
      "cell_type": "code",
      "source": [
        "number = [x**2 for x in range(1,20)]\n",
        "print(number)"
      ],
      "metadata": {
        "colab": {
          "base_uri": "https://localhost:8080/"
        },
        "id": "DCTFiJfpgo3e",
        "outputId": "3fc3b4c3-7fbf-4fd0-df81-8d297c286c7e"
      },
      "execution_count": 18,
      "outputs": [
        {
          "output_type": "stream",
          "name": "stdout",
          "text": [
            "[1, 4, 9, 16, 25, 36, 49, 64, 81, 100, 121, 144, 169, 196, 225, 256, 289, 324, 361]\n"
          ]
        }
      ]
    }
  ]
}