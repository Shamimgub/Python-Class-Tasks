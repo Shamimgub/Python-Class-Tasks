{
  "nbformat": 4,
  "nbformat_minor": 0,
  "metadata": {
    "colab": {
      "provenance": []
    },
    "kernelspec": {
      "name": "python3",
      "display_name": "Python 3"
    },
    "language_info": {
      "name": "python"
    }
  },
  "cells": [
    {
      "cell_type": "markdown",
      "source": [
        "1. Baic class Defination"
      ],
      "metadata": {
        "id": "-gbplxAnLsXK"
      }
    },
    {
      "cell_type": "code",
      "source": [
        "class student:\n",
        "  def __init__(self, name, age):\n",
        "    self.name = name\n",
        "    self.age = age\n",
        "\n",
        "  def introduce(self):\n",
        "    print(f\"My name is {self.name} and i am {self.age} years old\")\n",
        "\n",
        "student1 = student(\"shamim\", 24)\n",
        "student1.introduce()\n",
        "\n",
        "\n",
        "\n",
        "\n",
        "\n",
        "\n"
      ],
      "metadata": {
        "colab": {
          "base_uri": "https://localhost:8080/"
        },
        "id": "dT4G4sGnLsiD",
        "outputId": "71c40ccd-9e10-43b3-f529-fd5b8514f290"
      },
      "execution_count": 7,
      "outputs": [
        {
          "output_type": "stream",
          "name": "stdout",
          "text": [
            "My name is shamim and i am 24 years old\n"
          ]
        }
      ]
    },
    {
      "cell_type": "markdown",
      "source": [
        "2. Constructor and self parameter"
      ],
      "metadata": {
        "id": "7PIUFhEtQerR"
      }
    },
    {
      "cell_type": "code",
      "source": [
        "class book:\n",
        "  def __init__(self, title, author):\n",
        "    self.title = title\n",
        "    self.author = author\n",
        "\n",
        "  def display(self):\n",
        "    print(f\"Book tittle: {self.title}\")\n",
        "    print(f\"Author: {self.author}\")\n",
        "\n",
        "book1 = book(\"Python Programming\", \"Shamim\")\n",
        "book1.display()"
      ],
      "metadata": {
        "colab": {
          "base_uri": "https://localhost:8080/"
        },
        "id": "L8OCv6_FQlf2",
        "outputId": "c2ef7a80-4c53-45b8-aded-c5e29cb57aec"
      },
      "execution_count": 12,
      "outputs": [
        {
          "output_type": "stream",
          "name": "stdout",
          "text": [
            "Book tittle: Python Programming\n",
            "Author: Shamim\n"
          ]
        }
      ]
    },
    {
      "cell_type": "markdown",
      "source": [
        "3. Inheritance and Method Overriding"
      ],
      "metadata": {
        "id": "s9eRfBz4Srla"
      }
    },
    {
      "cell_type": "code",
      "source": [
        "class vehicle:\n",
        "  def start(self):\n",
        "    print(\"Vehicle starting....\")\n",
        "\n",
        "class car(vehicle):\n",
        "  def start(self):\n",
        "    print(\"Car starting....\")\n",
        "\n",
        "car1 = car()\n",
        "car1.start()"
      ],
      "metadata": {
        "colab": {
          "base_uri": "https://localhost:8080/"
        },
        "id": "Aj71s5aLS0Kv",
        "outputId": "5bc61176-5523-48cb-8eae-5b5fa2fac2ca"
      },
      "execution_count": 13,
      "outputs": [
        {
          "output_type": "stream",
          "name": "stdout",
          "text": [
            "Car starting....\n"
          ]
        }
      ]
    },
    {
      "cell_type": "markdown",
      "source": [
        "4. inheritace with method overriding"
      ],
      "metadata": {
        "id": "dznUbldkTb2u"
      }
    },
    {
      "cell_type": "code",
      "source": [
        "class animal:\n",
        "  def sound(self):\n",
        "    return \"some generic sound\"\n",
        "\n",
        "class Dog(animal):\n",
        "  def sound(self):\n",
        "    return \"Bark\"\n",
        "\n",
        "dog = Dog()\n",
        "print(dog.sound())"
      ],
      "metadata": {
        "colab": {
          "base_uri": "https://localhost:8080/"
        },
        "id": "lsGBqdXITm7i",
        "outputId": "6a9c758f-9f84-4e15-a031-d7bb6a4ae7b1"
      },
      "execution_count": 15,
      "outputs": [
        {
          "output_type": "stream",
          "name": "stdout",
          "text": [
            "Bark\n"
          ]
        }
      ]
    },
    {
      "cell_type": "markdown",
      "source": [
        "5. Encapsulation with getter and setter"
      ],
      "metadata": {
        "id": "nYCvso8iUn1C"
      }
    },
    {
      "cell_type": "code",
      "source": [
        "class person:\n",
        "  def __int__(self,age):\n",
        "    self.age = age\n",
        "\n",
        "  def get_age(self):\n",
        "    return self.age\n",
        "\n",
        "  def set_age(self, age):\n",
        "    if age >= 0:\n",
        "      self.age = age\n",
        "    else:\n",
        "      raise ValueError(\"Age cannot be negative\")\n",
        "\n",
        "person = person(25)\n",
        "print(person.get_age())\n",
        "\n",
        "person.set_age(30)\n",
        "print(person.get_age())"
      ],
      "metadata": {
        "colab": {
          "base_uri": "https://localhost:8080/",
          "height": 211
        },
        "id": "RadQInL6UuUI",
        "outputId": "711e768e-f9c2-48e1-880c-6658bbd6b387"
      },
      "execution_count": 20,
      "outputs": [
        {
          "output_type": "error",
          "ename": "TypeError",
          "evalue": "person() takes no arguments",
          "traceback": [
            "\u001b[0;31m---------------------------------------------------------------------------\u001b[0m",
            "\u001b[0;31mTypeError\u001b[0m                                 Traceback (most recent call last)",
            "\u001b[0;32m<ipython-input-20-4ec1f5f96353>\u001b[0m in \u001b[0;36m<cell line: 14>\u001b[0;34m()\u001b[0m\n\u001b[1;32m     12\u001b[0m       \u001b[0;32mraise\u001b[0m \u001b[0mValueError\u001b[0m\u001b[0;34m(\u001b[0m\u001b[0;34m\"Age cannot be negative\"\u001b[0m\u001b[0;34m)\u001b[0m\u001b[0;34m\u001b[0m\u001b[0;34m\u001b[0m\u001b[0m\n\u001b[1;32m     13\u001b[0m \u001b[0;34m\u001b[0m\u001b[0m\n\u001b[0;32m---> 14\u001b[0;31m \u001b[0mperson\u001b[0m \u001b[0;34m=\u001b[0m \u001b[0mperson\u001b[0m\u001b[0;34m(\u001b[0m\u001b[0;36m25\u001b[0m\u001b[0;34m)\u001b[0m\u001b[0;34m\u001b[0m\u001b[0;34m\u001b[0m\u001b[0m\n\u001b[0m\u001b[1;32m     15\u001b[0m \u001b[0mprint\u001b[0m\u001b[0;34m(\u001b[0m\u001b[0mperson\u001b[0m\u001b[0;34m.\u001b[0m\u001b[0mget_age\u001b[0m\u001b[0;34m(\u001b[0m\u001b[0;34m)\u001b[0m\u001b[0;34m)\u001b[0m\u001b[0;34m\u001b[0m\u001b[0;34m\u001b[0m\u001b[0m\n\u001b[1;32m     16\u001b[0m \u001b[0;34m\u001b[0m\u001b[0m\n",
            "\u001b[0;31mTypeError\u001b[0m: person() takes no arguments"
          ]
        }
      ]
    },
    {
      "cell_type": "markdown",
      "source": [
        "6. Polymorphism"
      ],
      "metadata": {
        "id": "YWaY6Ew8XZQ-"
      }
    },
    {
      "cell_type": "code",
      "source": [
        "class Shape:\n",
        "  def area(self):\n",
        "    return \"Area is not defined\"\n",
        "\n",
        "class circle(Shape):\n",
        "  def __init__(self, radius):\n",
        "    self.radius = radius\n",
        "\n",
        "  def area(self):\n",
        "    return 3.14 * self.radius * self.radius\n",
        "\n",
        "class rectangle(Shape):\n",
        "  def __init__(self, length, width):\n",
        "    self.length = length\n",
        "    self.width = width\n",
        "\n",
        "  def area(self):\n",
        "    return self.length * self.width\n",
        "\n",
        "circle = circle(5)\n",
        "rectangle = rectangle(4,6)\n",
        "\n",
        "print(circle.area())\n",
        "print(rectangle.area())"
      ],
      "metadata": {
        "colab": {
          "base_uri": "https://localhost:8080/"
        },
        "id": "ILT9sKcAXw65",
        "outputId": "d14c9af4-a064-401c-fea7-54bfae297b5c"
      },
      "execution_count": 21,
      "outputs": [
        {
          "output_type": "stream",
          "name": "stdout",
          "text": [
            "78.5\n",
            "24\n"
          ]
        }
      ]
    },
    {
      "cell_type": "markdown",
      "source": [
        "7. Using __repr__"
      ],
      "metadata": {
        "id": "-8psp7KlYmKn"
      }
    },
    {
      "cell_type": "code",
      "source": [
        "class car:\n",
        "  def __init__(self,make,model,year):\n",
        "    self.make = make\n",
        "    self.model = model\n",
        "    self.year = year\n",
        "\n",
        "  def __repr__(self):\n",
        "    return f\"Car(make='{self.make}', model='{self.model}', year={self.year})\"\n",
        "\n",
        "car= car(\"Toyota\", \"Camry\", 2022)\n",
        "print(car)"
      ],
      "metadata": {
        "colab": {
          "base_uri": "https://localhost:8080/"
        },
        "id": "mhBQl7k4ZDSF",
        "outputId": "f11a1f44-d6cd-4dea-ba7e-2475d4a10eb1"
      },
      "execution_count": 22,
      "outputs": [
        {
          "output_type": "stream",
          "name": "stdout",
          "text": [
            "Car(make='Toyota', model='Camry', year=2022)\n"
          ]
        }
      ]
    },
    {
      "cell_type": "markdown",
      "source": [
        "8. Method overriding"
      ],
      "metadata": {
        "id": "wrQ1zZ4uZFmp"
      }
    },
    {
      "cell_type": "code",
      "source": [
        "class calculator:\n",
        "  def add(self, *args):\n",
        "    return sum(args)if args else 0\n",
        "\n",
        "\n",
        "calc = calculator()\n",
        "print(calc.add(1,2,3,4))"
      ],
      "metadata": {
        "colab": {
          "base_uri": "https://localhost:8080/"
        },
        "id": "opKkgVYwZIf5",
        "outputId": "a117639e-ce51-4d54-865e-5405739d3403"
      },
      "execution_count": 23,
      "outputs": [
        {
          "output_type": "stream",
          "name": "stdout",
          "text": [
            "10\n"
          ]
        }
      ]
    },
    {
      "cell_type": "markdown",
      "source": [
        "9. Class variables"
      ],
      "metadata": {
        "id": "0CdJPbw0ZnD6"
      }
    },
    {
      "cell_type": "code",
      "source": [
        "class employe:\n",
        "  company = \"ABC Corporation\"\n",
        "\n",
        "  def __init__(self,name,salary):\n",
        "    self.name = name\n",
        "\n",
        "  def display(self):\n",
        "    print(f\"{self.name} works at {self.company}\")\n",
        "\n",
        "emp1 = employe(\"Shamim\", 50000)\n",
        "emp1.display()"
      ],
      "metadata": {
        "colab": {
          "base_uri": "https://localhost:8080/"
        },
        "id": "BBYwKSr0Zroe",
        "outputId": "28a46432-71d4-4fde-ce01-3200ba25e175"
      },
      "execution_count": 24,
      "outputs": [
        {
          "output_type": "stream",
          "name": "stdout",
          "text": [
            "Shamim works at ABC Corporation\n"
          ]
        }
      ]
    },
    {
      "cell_type": "markdown",
      "source": [
        "10. Class method and staticmethod"
      ],
      "metadata": {
        "id": "KvjRN8ZXaDEc"
      }
    },
    {
      "cell_type": "code",
      "source": [
        "from re import A\n",
        "class bankaccount:\n",
        "  interest_rate = 0.05\n",
        "\n",
        "  def __init__(self, balance):\n",
        "    self.balance = balance\n",
        "\n",
        "  @classmethod\n",
        "  def create_account(cls, initial_balance):\n",
        "    return cls(initial_balance)\n",
        "\n",
        "  @staticmethod\n",
        "  def calculate_interest(balance):\n",
        "    return balance * bankaccount.interest_rate\n",
        "\n",
        "account = bankaccount.create_account(1000)\n",
        "print(account.balance)\n",
        "\n",
        "interest = bankaccount.calculate_interest(1000)\n",
        "print(interest)"
      ],
      "metadata": {
        "colab": {
          "base_uri": "https://localhost:8080/"
        },
        "id": "hwl3y_vyaHSz",
        "outputId": "bb66e9d6-79ed-450f-9ada-10f2d5f65c21"
      },
      "execution_count": 25,
      "outputs": [
        {
          "output_type": "stream",
          "name": "stdout",
          "text": [
            "1000\n",
            "50.0\n"
          ]
        }
      ]
    }
  ]
}