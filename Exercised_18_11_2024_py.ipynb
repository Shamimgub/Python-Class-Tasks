{
  "nbformat": 4,
  "nbformat_minor": 0,
  "metadata": {
    "colab": {
      "provenance": []
    },
    "kernelspec": {
      "name": "python3",
      "display_name": "Python 3"
    },
    "language_info": {
      "name": "python"
    }
  },
  "cells": [
    {
      "cell_type": "markdown",
      "source": [
        "Exercised 1"
      ],
      "metadata": {
        "id": "H7s5cjh59JhF"
      }
    },
    {
      "cell_type": "code",
      "source": [
        "def find_largest(a, b, c):\n",
        "  return max(a, b, c)\n",
        "print(find_largest(10, 12, 30))"
      ],
      "metadata": {
        "colab": {
          "base_uri": "https://localhost:8080/"
        },
        "id": "r0VBaqz89N8F",
        "outputId": "a4f78303-bae6-41a0-d868-3173baf7edf2"
      },
      "execution_count": 2,
      "outputs": [
        {
          "output_type": "stream",
          "name": "stdout",
          "text": [
            "30\n"
          ]
        }
      ]
    },
    {
      "cell_type": "markdown",
      "source": [
        "Exercised 2"
      ],
      "metadata": {
        "id": "KUdabSQD93Ch"
      }
    },
    {
      "cell_type": "code",
      "source": [
        "def factorial(n):\n",
        "  if n==0:\n",
        "    return 1\n",
        "  else:\n",
        "      return n*factorial(n-1)\n",
        "print(factorial(7))\n"
      ],
      "metadata": {
        "colab": {
          "base_uri": "https://localhost:8080/"
        },
        "id": "gQKB7G_H9-id",
        "outputId": "06a5363e-300e-457b-f6f7-273110e7cf61"
      },
      "execution_count": 5,
      "outputs": [
        {
          "output_type": "stream",
          "name": "stdout",
          "text": [
            "5040\n"
          ]
        }
      ]
    },
    {
      "cell_type": "markdown",
      "source": [
        "Exercised 3"
      ],
      "metadata": {
        "id": "Ma2cn9kW-1FQ"
      }
    },
    {
      "cell_type": "code",
      "source": [
        "!pip install\n",
        "from ast import operator\n",
        "from math import add, sub, mul, div\n",
        "print(operator.add(10, 20))\n",
        "print(sub(10, 20))\n",
        "print(mul(10, 20))\n",
        "print(div(10, 20))"
      ],
      "metadata": {
        "colab": {
          "base_uri": "https://localhost:8080/",
          "height": 401
        },
        "id": "prpgobVz-3gn",
        "outputId": "9b76ecf1-4f9b-4766-f76e-7be0c14fc546"
      },
      "execution_count": 12,
      "outputs": [
        {
          "output_type": "stream",
          "name": "stdout",
          "text": [
            "\u001b[31mERROR: You must give at least one requirement to install (see \"pip help install\")\u001b[0m\u001b[31m\n",
            "\u001b[0m"
          ]
        },
        {
          "output_type": "error",
          "ename": "ImportError",
          "evalue": "cannot import name 'add' from 'math' (unknown location)",
          "traceback": [
            "\u001b[0;31m---------------------------------------------------------------------------\u001b[0m",
            "\u001b[0;31mImportError\u001b[0m                               Traceback (most recent call last)",
            "\u001b[0;32m<ipython-input-12-d22153505900>\u001b[0m in \u001b[0;36m<cell line: 3>\u001b[0;34m()\u001b[0m\n\u001b[1;32m      1\u001b[0m \u001b[0mget_ipython\u001b[0m\u001b[0;34m(\u001b[0m\u001b[0;34m)\u001b[0m\u001b[0;34m.\u001b[0m\u001b[0msystem\u001b[0m\u001b[0;34m(\u001b[0m\u001b[0;34m'pip install'\u001b[0m\u001b[0;34m)\u001b[0m\u001b[0;34m\u001b[0m\u001b[0;34m\u001b[0m\u001b[0m\n\u001b[1;32m      2\u001b[0m \u001b[0;32mfrom\u001b[0m \u001b[0mast\u001b[0m \u001b[0;32mimport\u001b[0m \u001b[0moperator\u001b[0m\u001b[0;34m\u001b[0m\u001b[0;34m\u001b[0m\u001b[0m\n\u001b[0;32m----> 3\u001b[0;31m \u001b[0;32mfrom\u001b[0m \u001b[0mmath\u001b[0m \u001b[0;32mimport\u001b[0m \u001b[0madd\u001b[0m\u001b[0;34m,\u001b[0m \u001b[0msub\u001b[0m\u001b[0;34m,\u001b[0m \u001b[0mmul\u001b[0m\u001b[0;34m,\u001b[0m \u001b[0mdiv\u001b[0m\u001b[0;34m\u001b[0m\u001b[0;34m\u001b[0m\u001b[0m\n\u001b[0m\u001b[1;32m      4\u001b[0m \u001b[0mprint\u001b[0m\u001b[0;34m(\u001b[0m\u001b[0moperator\u001b[0m\u001b[0;34m.\u001b[0m\u001b[0madd\u001b[0m\u001b[0;34m(\u001b[0m\u001b[0;36m10\u001b[0m\u001b[0;34m,\u001b[0m \u001b[0;36m20\u001b[0m\u001b[0;34m)\u001b[0m\u001b[0;34m)\u001b[0m\u001b[0;34m\u001b[0m\u001b[0;34m\u001b[0m\u001b[0m\n\u001b[1;32m      5\u001b[0m \u001b[0mprint\u001b[0m\u001b[0;34m(\u001b[0m\u001b[0msub\u001b[0m\u001b[0;34m(\u001b[0m\u001b[0;36m10\u001b[0m\u001b[0;34m,\u001b[0m \u001b[0;36m20\u001b[0m\u001b[0;34m)\u001b[0m\u001b[0;34m)\u001b[0m\u001b[0;34m\u001b[0m\u001b[0;34m\u001b[0m\u001b[0m\n",
            "\u001b[0;31mImportError\u001b[0m: cannot import name 'add' from 'math' (unknown location)",
            "",
            "\u001b[0;31m---------------------------------------------------------------------------\u001b[0;32m\nNOTE: If your import is failing due to a missing package, you can\nmanually install dependencies using either !pip or !apt.\n\nTo view examples of installing some common dependencies, click the\n\"Open Examples\" button below.\n\u001b[0;31m---------------------------------------------------------------------------\u001b[0m\n"
          ],
          "errorDetails": {
            "actions": [
              {
                "action": "open_url",
                "actionText": "Open Examples",
                "url": "/notebooks/snippets/importing_libraries.ipynb"
              }
            ]
          }
        }
      ]
    },
    {
      "cell_type": "markdown",
      "source": [
        "Exercised 4"
      ],
      "metadata": {
        "id": "sQqnIcylDT2G"
      }
    },
    {
      "cell_type": "code",
      "source": [
        "class rectangle:\n",
        "  def __init__(self, length, width):\n",
        "    self.length = length\n",
        "    self.width = width\n",
        "  def area(self):\n",
        "    return self.length * self.width\n",
        "  def perimeter(self):\n",
        "    return 2 * (self.length + self.width)\n",
        "\n",
        "rect = rectangle(10, 20)\n",
        "print(rect.area())\n",
        "print(rect.perimeter())"
      ],
      "metadata": {
        "colab": {
          "base_uri": "https://localhost:8080/"
        },
        "id": "MsWpzmBrDudS",
        "outputId": "e944a658-7891-4e6d-fbed-d62fcd78863a"
      },
      "execution_count": 16,
      "outputs": [
        {
          "output_type": "stream",
          "name": "stdout",
          "text": [
            "200\n",
            "60\n"
          ]
        }
      ]
    },
    {
      "cell_type": "markdown",
      "source": [
        "Exercised 5"
      ],
      "metadata": {
        "id": "tQOCeSZFEOAH"
      }
    },
    {
      "cell_type": "code",
      "source": [
        "class bank_account:\n",
        "  def __init__(self, account_number, balance=0):\n",
        "    self.account_number = account_number\n",
        "    self.balance = balance\n",
        "\n",
        "  def deposit(self, amount):\n",
        "    self.balance += amount\n",
        "  def withdraw(self, amount):\n",
        "    if amount > self.balance:\n",
        "      raise ValueError(\"Insufficient balance\")\n",
        "    self.balance -= amount\n",
        "    print(\"Withdrawal successful\")\n",
        "  def get_balance(self):\n",
        "    return self.balance\n",
        "\n",
        "account = bank_account(\"123456789\", 1000)\n",
        "account.deposit(500)\n",
        "account.withdraw(200)\n",
        "print(account.get_balance())\n",
        "\n",
        "\n",
        ""
      ],
      "metadata": {
        "colab": {
          "base_uri": "https://localhost:8080/"
        },
        "id": "_ZXblpy-FNa7",
        "outputId": "c80b069a-1666-45d5-96e2-fa7ae8d3687a"
      },
      "execution_count": 18,
      "outputs": [
        {
          "output_type": "stream",
          "name": "stdout",
          "text": [
            "Withdrawal successful\n",
            "1300\n"
          ]
        }
      ]
    },
    {
      "cell_type": "markdown",
      "source": [
        "Exercised 6"
      ],
      "metadata": {
        "id": "ReFIvD6wFcEo"
      }
    },
    {
      "cell_type": "code",
      "source": [
        "class Bank:\n",
        "  def __init__(self):\n",
        "    self.accounts = []\n",
        "\n",
        "\n",
        "  def add_account(self, account):\n",
        "    self.accounts.append(account)\n",
        "\n",
        "  def total_funds(self):\n",
        "    return sum(account.get_balance() for account in self.accounts)\n",
        "\n",
        "account1 = bank_account(\"123456789\", 1000)\n",
        "account2 = bank_account(\"987654321\", 2000)\n",
        "bank = Bank()\n",
        "bank.add_account(account1)\n",
        "bank.add_account(account2)\n",
        "print(bank.total_funds())"
      ],
      "metadata": {
        "colab": {
          "base_uri": "https://localhost:8080/"
        },
        "id": "6oBoKMS6Gzze",
        "outputId": "44ceed8b-f603-4244-8552-6fe89a6d4ecd"
      },
      "execution_count": 22,
      "outputs": [
        {
          "output_type": "stream",
          "name": "stdout",
          "text": [
            "3000\n"
          ]
        }
      ]
    },
    {
      "cell_type": "markdown",
      "source": [
        "Exercised 7"
      ],
      "metadata": {
        "id": "ATvsK00NHPD4"
      }
    },
    {
      "cell_type": "code",
      "source": [
        "def sum_0f_evens(numbers):\n",
        "  return sum(n for n in numbers if n%2==0)\n",
        "numbers = list(map(int, input(\"Enter a list of numbers: \").split()))\n",
        "print(sum_0f_evens(numbers))"
      ],
      "metadata": {
        "colab": {
          "base_uri": "https://localhost:8080/"
        },
        "id": "K7WyQi-2HR1t",
        "outputId": "1d2fb38a-3e26-4274-8ced-e50477b4c584"
      },
      "execution_count": 23,
      "outputs": [
        {
          "output_type": "stream",
          "name": "stdout",
          "text": [
            "Enter a list of numbers: 34\n",
            "34\n"
          ]
        }
      ]
    },
    {
      "cell_type": "markdown",
      "source": [
        "Exercised 8"
      ],
      "metadata": {
        "id": "yo0395UAH7b9"
      }
    },
    {
      "cell_type": "code",
      "source": [
        "def is_prime(n):\n",
        "  if n<2:\n",
        "    return False\n",
        "  for i in range(2, int(n**0.5)+1):\n",
        "    if n%i==0:\n",
        "      return False\n",
        "  return True\n",
        "print(is_prime(7))\n",
        "\n",
        ""
      ],
      "metadata": {
        "colab": {
          "base_uri": "https://localhost:8080/"
        },
        "id": "_KLHC5QpH9iN",
        "outputId": "ef61eae0-7f49-479c-c219-ad12eaf43594"
      },
      "execution_count": 25,
      "outputs": [
        {
          "output_type": "stream",
          "name": "stdout",
          "text": [
            "True\n"
          ]
        }
      ]
    },
    {
      "cell_type": "markdown",
      "source": [
        "Exercised 9"
      ],
      "metadata": {
        "id": "wcW2Se5lISHK"
      }
    },
    {
      "cell_type": "code",
      "source": [
        "class student:\n",
        "  def __init__(self, name, age, grade):\n",
        "    self.name = name\n",
        "    self.age = age\n",
        "    self.grade = grade\n",
        "  def display(self):\n",
        "    print(f\"Name: {self.name}, Age: {self.age}, Grade: {self.grade}\")\n",
        "\n",
        "  def average(self):\n",
        "    return sum(self.grade)/len(self.grade)\n",
        "\n",
        "student = student(\"Alice\",20,[80, 90, 75])\n",
        "student.display()\n",
        "print(student.average())\n",
        "\n"
      ],
      "metadata": {
        "colab": {
          "base_uri": "https://localhost:8080/"
        },
        "id": "IgLIfGAIJOZu",
        "outputId": "2dcee51f-2dde-48b2-c6cf-8fc8fc6e7b55"
      },
      "execution_count": 27,
      "outputs": [
        {
          "output_type": "stream",
          "name": "stdout",
          "text": [
            "Name: Alice, Age: 20, Grade: [80, 90, 75]\n",
            "81.66666666666667\n"
          ]
        }
      ]
    },
    {
      "cell_type": "markdown",
      "source": [
        "Exercised 10"
      ],
      "metadata": {
        "id": "N11oLyfiJl6S"
      }
    },
    {
      "cell_type": "code",
      "source": [
        "def get_common_elements(list1, list2):\n",
        "  return list(set(list1) & set(list2))\n",
        "print(get_common_elements([1, 2, 3, 4], [3, 4, 5, 6]))"
      ],
      "metadata": {
        "colab": {
          "base_uri": "https://localhost:8080/"
        },
        "id": "V-MAUCIFJpDW",
        "outputId": "744ba06c-95e4-41a1-9ecb-1b8b33cf3dd9"
      },
      "execution_count": 29,
      "outputs": [
        {
          "output_type": "stream",
          "name": "stdout",
          "text": [
            "[3, 4]\n"
          ]
        }
      ]
    },
    {
      "cell_type": "markdown",
      "source": [
        "Exercised 11"
      ],
      "metadata": {
        "id": "T514KDM2J_IA"
      }
    },
    {
      "cell_type": "code",
      "source": [
        "class vehicle:\n",
        "  def __init__(self, brand, speed=0):\n",
        "    self.brand = brand\n",
        "    self.speed = speed\n",
        "  def accelerate(self, amount):\n",
        "    self.speed += amount\n",
        "    print(f\"The {self.brand} is now going at {self.speed} mph\")\n",
        "  def brake(self, amount):\n",
        "    self.speed -= amount\n",
        "    print(f\"Speed decreased to {self.speed} mph\")\n",
        "\n",
        "car = vehicle(\"Toyota\", 60)\n",
        "car.accelerate(20)\n",
        "car.brake(45)\n",
        "\n"
      ],
      "metadata": {
        "colab": {
          "base_uri": "https://localhost:8080/"
        },
        "id": "rHO41C6_KA-G",
        "outputId": "09302374-94d6-4d75-8db5-a63cdb3472a7"
      },
      "execution_count": 31,
      "outputs": [
        {
          "output_type": "stream",
          "name": "stdout",
          "text": [
            "The Toyota is now going at 80 mph\n",
            "Speed decreased to 35 mph\n"
          ]
        }
      ]
    },
    {
      "cell_type": "markdown",
      "source": [
        "Exercised 12"
      ],
      "metadata": {
        "id": "gvrxTx4tLGnm"
      }
    },
    {
      "cell_type": "code",
      "source": [
        "def get_unique_elements(numbers):\n",
        "  return list(set(numbers))\n",
        "print(get_unique_elements([1, 2, 3, 4, 2, 3, 5]))"
      ],
      "metadata": {
        "colab": {
          "base_uri": "https://localhost:8080/"
        },
        "id": "mOhA0cF7LIuf",
        "outputId": "00612f98-e985-42f9-a8ec-86b9aa900962"
      },
      "execution_count": 32,
      "outputs": [
        {
          "output_type": "stream",
          "name": "stdout",
          "text": [
            "[1, 2, 3, 4, 5]\n"
          ]
        }
      ]
    },
    {
      "cell_type": "markdown",
      "source": [
        "Exercised 13"
      ],
      "metadata": {
        "id": "h0b8jVz4LSqv"
      }
    },
    {
      "cell_type": "code",
      "source": [
        "class library:\n",
        "  def __init__(self):\n",
        "    self.books = []\n",
        "  def add_book(self, book):\n",
        "    self.books.append(book)\n",
        "    print(f\"{book} has been added to the library\")\n",
        "\n",
        "  def remove_book(self, book):\n",
        "    if book in self.books:\n",
        "      self.books.remove(book)\n",
        "      print(f\"{book} has been removed from the library\")\n",
        "    else:\n",
        "      print(f\"{book} is not in the library\")\n",
        "  def display_books(self):\n",
        "    print(\"Books in the library:\")\n",
        "\n",
        "library = library()\n",
        "library.add_book(\"The Great Gatsby\")\n",
        "library.add_book(\"To Kill a Mockingbird\")\n",
        "library.display_books()\n",
        "library.remove_book(\"The Great Gatsby\")\n",
        "library.display_books()"
      ],
      "metadata": {
        "colab": {
          "base_uri": "https://localhost:8080/"
        },
        "id": "AvttSe-BLVgT",
        "outputId": "f0eec9c1-95b4-4deb-a467-25231a0f7ac9"
      },
      "execution_count": 34,
      "outputs": [
        {
          "output_type": "stream",
          "name": "stdout",
          "text": [
            "The Great Gatsby has been added to the library\n",
            "To Kill a Mockingbird has been added to the library\n",
            "Books in the library:\n",
            "The Great Gatsby has been removed from the library\n",
            "Books in the library:\n"
          ]
        }
      ]
    }
  ]
}