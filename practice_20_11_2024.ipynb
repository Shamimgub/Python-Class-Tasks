{
  "nbformat": 4,
  "nbformat_minor": 0,
  "metadata": {
    "colab": {
      "provenance": []
    },
    "kernelspec": {
      "name": "python3",
      "display_name": "Python 3"
    },
    "language_info": {
      "name": "python"
    }
  },
  "cells": [
    {
      "cell_type": "markdown",
      "source": [
        "1. Constructor and method creation"
      ],
      "metadata": {
        "id": "5OJYlUiqcYVE"
      }
    },
    {
      "cell_type": "code",
      "source": [
        "class Book:\n",
        "  def __init__(self, title, author, year_published):\n",
        "    self.title = title\n",
        "    self.author = author\n",
        "    self.year_published = year_published\n",
        "\n",
        "  def get_details(self):\n",
        "    return f\"title: <{self.title}>, Author: <{self.author}>, year published: <{self.year_published}>\"\n",
        "\n",
        "title1 = Book(\"Himu\",\"Humayon Ahamed\",2006)\n",
        "title1.get_details()\n",
        "\n",
        ""
      ],
      "metadata": {
        "colab": {
          "base_uri": "https://localhost:8080/",
          "height": 35
        },
        "id": "DS6s0X6peEhc",
        "outputId": "846937e1-12de-4279-bf77-d8c46003d9d7"
      },
      "execution_count": 5,
      "outputs": [
        {
          "output_type": "execute_result",
          "data": {
            "text/plain": [
              "'title: <Himu>, Author: <Humayon Ahamed>, year published: <2006>'"
            ],
            "application/vnd.google.colaboratory.intrinsic+json": {
              "type": "string"
            }
          },
          "metadata": {},
          "execution_count": 5
        }
      ]
    },
    {
      "cell_type": "markdown",
      "source": [
        "2. Inheritance and overriding methods"
      ],
      "metadata": {
        "id": "m5IFq0gNfO0o"
      }
    },
    {
      "cell_type": "code",
      "source": [
        "class animal:\n",
        "  def speak(self):\n",
        "    print(\"Ghew ghew!!\")\n",
        "class dog(animal):\n",
        "  def speak(self):\n",
        "    print(\"woof!\")\n",
        "\n",
        "dog1 = dog()\n",
        "dog1.speak()"
      ],
      "metadata": {
        "colab": {
          "base_uri": "https://localhost:8080/"
        },
        "id": "vWZ8kvTtfWes",
        "outputId": "3f2e136a-c8b7-4905-ca65-0c76a7be6a9d"
      },
      "execution_count": 6,
      "outputs": [
        {
          "output_type": "stream",
          "name": "stdout",
          "text": [
            "woof!\n"
          ]
        }
      ]
    },
    {
      "cell_type": "markdown",
      "source": [
        "3. Encapsulation with private variable"
      ],
      "metadata": {
        "id": "BY4633_xgSih"
      }
    },
    {
      "cell_type": "code",
      "source": [
        "class Bankaccount:\n",
        "    def __init__(self, initial_balance=0):\n",
        "        self.__balance = initial_balance\n",
        "\n",
        "    def deposit(self, amount):\n",
        "        if amount > 0:\n",
        "            self.__balance += amount\n",
        "            print(f\"Deposited: {amount}. New balance: {self.__balance}\")\n",
        "        else:\n",
        "            print(\"Invalid deposit amount.\")\n",
        "\n",
        "    def withdraw(self, amount):\n",
        "        if 0 < amount <= self.__balance:\n",
        "            self.__balance -= amount\n",
        "            print(f\"Withdrew: {amount}. New balance: {self.__balance}\")\n",
        "        else:\n",
        "            print(\"Insufficient funds\")\n",
        "\n",
        "    def get_balance(self):\n",
        "        return self.__balance\n",
        "\n",
        "account = Bankaccount(1000)\n",
        "account.deposit(500)\n",
        "account.withdraw(1600)\n",
        "print(f\"Current balance: {account.get_balance()}\")\n"
      ],
      "metadata": {
        "colab": {
          "base_uri": "https://localhost:8080/"
        },
        "id": "yXHz8keRgYCh",
        "outputId": "3cf70d7f-38c9-4eec-bd42-4161fcbbb24c"
      },
      "execution_count": 10,
      "outputs": [
        {
          "output_type": "stream",
          "name": "stdout",
          "text": [
            "Deposited: 500. New balance: 1500\n",
            "Insufficient funds or invalid withdrawal amount.\n",
            "Current balance: 1500\n"
          ]
        }
      ]
    },
    {
      "cell_type": "markdown",
      "source": [
        "4. Polymorphism"
      ],
      "metadata": {
        "id": "vrcXbx6Whoo-"
      }
    },
    {
      "cell_type": "code",
      "source": [
        "class shape:\n",
        "  def area(self):\n",
        "    return \"area is not defined\"\n",
        "\n",
        "class circle(shape):\n",
        "  def __init__(self, radius):\n",
        "    self.radius = radius\n",
        "\n",
        "  def area(self):\n",
        "    return 3.1416 * self.radius ** 2\n",
        "\n",
        "class rectangle(shape):\n",
        "  def __init__(self, length, width):\n",
        "    self.length = length\n",
        "    self.width = width\n",
        "\n",
        "  def area(self):\n",
        "    return self.length * self.width\n",
        "\n",
        "circle1 = circle(6)\n",
        "rectangle1 = rectangle(4,6)\n",
        "print(circle1.area())\n",
        "print(rectangle1.area())\n"
      ],
      "metadata": {
        "colab": {
          "base_uri": "https://localhost:8080/"
        },
        "id": "QyTudEQWipyR",
        "outputId": "cf5f6f11-c9e1-408a-a3d2-1ddf962c8f4c"
      },
      "execution_count": 12,
      "outputs": [
        {
          "output_type": "stream",
          "name": "stdout",
          "text": [
            "113.0976\n",
            "24\n"
          ]
        }
      ]
    },
    {
      "cell_type": "markdown",
      "source": [
        "5. Static Methods"
      ],
      "metadata": {
        "id": "oW-sMxkdi5u_"
      }
    },
    {
      "cell_type": "code",
      "source": [
        "class MathOperation:\n",
        "  def multiply(x, y):\n",
        "    return x * y\n",
        "\n",
        "result = MathOperation.multiply(5, 3)\n",
        "print(result)\n"
      ],
      "metadata": {
        "colab": {
          "base_uri": "https://localhost:8080/"
        },
        "id": "QuvabGT-i8lX",
        "outputId": "bbe964d1-2ba1-4588-f66f-b670d2dc0750"
      },
      "execution_count": 14,
      "outputs": [
        {
          "output_type": "stream",
          "name": "stdout",
          "text": [
            "15\n"
          ]
        }
      ]
    },
    {
      "cell_type": "markdown",
      "source": [
        "6. Method Overloading"
      ],
      "metadata": {
        "id": "2_YNaxgbkH8W"
      }
    },
    {
      "cell_type": "code",
      "source": [
        "class Calculator:\n",
        "    def add(self, *args):\n",
        "        if len(args) == 2:\n",
        "            return args[0] + args[1]\n",
        "        elif len(args) == 1 and isinstance(args[0], list):\n",
        "            return sum(args[0])\n",
        "        else:\n",
        "            return \"Invalid input\"\n",
        "\n",
        "\n",
        "\n",
        "my_calculator = Calculator()\n",
        "\n",
        "\n",
        "result1 = my_calculator.add(5, 3)\n",
        "print(result1)\n",
        "result2 = my_calculator.add([1, 2, 3, 4, 5])\n",
        "print(result2)\n",
        "result3 = my_calculator.add(1, 2, 3)\n",
        "print(result3)\n",
        "result4 = my_calculator.add(2)\n",
        "print(result4)\n"
      ],
      "metadata": {
        "colab": {
          "base_uri": "https://localhost:8080/"
        },
        "id": "XauXx4zKkLUo",
        "outputId": "e6f02bc5-39d9-4332-cbeb-e8c37d882721"
      },
      "execution_count": 16,
      "outputs": [
        {
          "output_type": "stream",
          "name": "stdout",
          "text": [
            "8\n",
            "15\n",
            "Invalid input\n",
            "Invalid input\n"
          ]
        }
      ]
    },
    {
      "cell_type": "markdown",
      "source": [
        "7. Class variables"
      ],
      "metadata": {
        "id": "ZCB-Te4alnua"
      }
    },
    {
      "cell_type": "code",
      "source": [
        "class Employe:\n",
        "  company = \"gub tech\"\n",
        "\n",
        "  def __init__(self, name, position):\n",
        "    self.name = name\n",
        "    self.position = position\n",
        "  def display(self):\n",
        "    print(f\"Name: {self.name}, position: {self.position} company: {self.company}\")\n",
        "\n",
        "emp1=Employe(\"Shamim\", \"Manager\")\n",
        "emp2=Employe(\"Himu\", \"Developer\")\n",
        "emp1.display()\n",
        "emp2.display()"
      ],
      "metadata": {
        "colab": {
          "base_uri": "https://localhost:8080/"
        },
        "id": "IJUb4XLxlqnB",
        "outputId": "88bf5107-125c-492e-c067-115f0f0477c1"
      },
      "execution_count": 25,
      "outputs": [
        {
          "output_type": "stream",
          "name": "stdout",
          "text": [
            "Name: Shamim, position: Manager company: gub tech\n",
            "Name: Himu, position: Developer company: gub tech\n"
          ]
        }
      ]
    },
    {
      "cell_type": "markdown",
      "source": [
        "8. Using --repr__ methods"
      ],
      "metadata": {
        "id": "-2uJvCUVnMy_"
      }
    },
    {
      "cell_type": "code",
      "source": [
        "class car:\n",
        "  def __init__(self, make, model, year):\n",
        "    self.make = make\n",
        "    self.model = model\n",
        "    self.year = year\n",
        "  def __repr__(self):\n",
        "    return f\"Make: <{self.make}>, Model: <{self.model}>, Year: <{self.year}>\"\n",
        "\n",
        "car1 = car(\"Toyota\", \"sedan\", 2024)\n",
        "print(car1)"
      ],
      "metadata": {
        "colab": {
          "base_uri": "https://localhost:8080/"
        },
        "id": "42HSMiNGnjZ-",
        "outputId": "4f6bf387-df47-43aa-c5bf-bcec4a97ae14"
      },
      "execution_count": 26,
      "outputs": [
        {
          "output_type": "stream",
          "name": "stdout",
          "text": [
            "Make: <Toyota>, Model: <Camry>, Year: <2022>\n"
          ]
        }
      ]
    },
    {
      "cell_type": "markdown",
      "source": [
        "9. inheritance with multiple class"
      ],
      "metadata": {
        "id": "UaJ-VM3Lnxh2"
      }
    },
    {
      "cell_type": "code",
      "source": [
        "class Vehicle:\n",
        "    def __init__(self, make, model):\n",
        "        self.make = make\n",
        "        self.model = model\n",
        "\n",
        "class Truck(Vehicle):\n",
        "    def __init__(self, make, model, payload_capacity):\n",
        "        super().__init__(make, model)\n",
        "        self.payload_capacity = payload_capacity\n",
        "\n",
        "    def get_details(self):\n",
        "        return f\"Make: {self.make}, Model: {self.model}, Payload Capacity: {self.payload_capacity}\"\n",
        "\n",
        "\n",
        "my_truck = Truck(\"mahindra\", \"h2\", 3000)\n",
        "print(my_truck.get_details())"
      ],
      "metadata": {
        "colab": {
          "base_uri": "https://localhost:8080/"
        },
        "id": "O89h2FALn1zX",
        "outputId": "1c475a6a-6d23-4d53-828e-d5e8572b00cf"
      },
      "execution_count": 27,
      "outputs": [
        {
          "output_type": "stream",
          "name": "stdout",
          "text": [
            "Make: mahindra, Model: h2, Payload Capacity: 3000\n"
          ]
        }
      ]
    }
  ]
}