{
  "nbformat": 4,
  "nbformat_minor": 0,
  "metadata": {
    "colab": {
      "provenance": []
    },
    "kernelspec": {
      "name": "python3",
      "display_name": "Python 3"
    },
    "language_info": {
      "name": "python"
    }
  },
  "cells": [
    {
      "cell_type": "markdown",
      "source": [
        "1. Create a file"
      ],
      "metadata": {
        "id": "vHLuDJoF__fl"
      }
    },
    {
      "cell_type": "code",
      "source": [
        "with open('file.txt', 'w') as file:\n",
        "  file.write(\"My name is shamim.\")\n",
        "  file.write(\"I am 24 years old\")\n",
        "  file.write(\"i am a cse student\")"
      ],
      "metadata": {
        "id": "HlzFPvJj__p7"
      },
      "execution_count": 1,
      "outputs": []
    },
    {
      "cell_type": "markdown",
      "source": [],
      "metadata": {
        "id": "qr7hZHjT__7b"
      }
    },
    {
      "cell_type": "code",
      "source": [
        "2. Read a file"
      ],
      "metadata": {
        "id": "toc0yIfdAAIM"
      },
      "execution_count": null,
      "outputs": []
    },
    {
      "cell_type": "code",
      "source": [
        "with open('shamim.txt', 'r') as file:\n",
        "  for line in file:\n",
        "    print(line)"
      ],
      "metadata": {
        "colab": {
          "base_uri": "https://localhost:8080/",
          "height": 176
        },
        "id": "ZhmHCGS5Nkhp",
        "outputId": "c12a4f42-bbf7-48de-c006-bbf436198a7f"
      },
      "execution_count": 2,
      "outputs": [
        {
          "output_type": "error",
          "ename": "FileNotFoundError",
          "evalue": "[Errno 2] No such file or directory: 'shamim.txt'",
          "traceback": [
            "\u001b[0;31m---------------------------------------------------------------------------\u001b[0m",
            "\u001b[0;31mFileNotFoundError\u001b[0m                         Traceback (most recent call last)",
            "\u001b[0;32m<ipython-input-2-2a63bffe2a03>\u001b[0m in \u001b[0;36m<cell line: 1>\u001b[0;34m()\u001b[0m\n\u001b[0;32m----> 1\u001b[0;31m \u001b[0;32mwith\u001b[0m \u001b[0mopen\u001b[0m\u001b[0;34m(\u001b[0m\u001b[0;34m'shamim.txt'\u001b[0m\u001b[0;34m,\u001b[0m \u001b[0;34m'r'\u001b[0m\u001b[0;34m)\u001b[0m \u001b[0;32mas\u001b[0m \u001b[0mfile\u001b[0m\u001b[0;34m:\u001b[0m\u001b[0;34m\u001b[0m\u001b[0;34m\u001b[0m\u001b[0m\n\u001b[0m\u001b[1;32m      2\u001b[0m   \u001b[0;32mfor\u001b[0m \u001b[0mline\u001b[0m \u001b[0;32min\u001b[0m \u001b[0mfile\u001b[0m\u001b[0;34m:\u001b[0m\u001b[0;34m\u001b[0m\u001b[0;34m\u001b[0m\u001b[0m\n\u001b[1;32m      3\u001b[0m     \u001b[0mprint\u001b[0m\u001b[0;34m(\u001b[0m\u001b[0mline\u001b[0m\u001b[0;34m)\u001b[0m\u001b[0;34m\u001b[0m\u001b[0;34m\u001b[0m\u001b[0m\n",
            "\u001b[0;31mFileNotFoundError\u001b[0m: [Errno 2] No such file or directory: 'shamim.txt'"
          ]
        }
      ]
    },
    {
      "cell_type": "markdown",
      "source": [
        "3. Append to file"
      ],
      "metadata": {
        "id": "lSv8DZlkADC7"
      }
    },
    {
      "cell_type": "code",
      "source": [
        "with open('shamim.txt', 'a') as file:\n",
        "  file.write(\"id is: 211902054\")\n",
        ""
      ],
      "metadata": {
        "id": "48UZFWiuADZU"
      },
      "execution_count": null,
      "outputs": []
    },
    {
      "cell_type": "markdown",
      "source": [
        "4. Handling file not found"
      ],
      "metadata": {
        "id": "3gAyd4kMADrr"
      }
    },
    {
      "cell_type": "code",
      "source": [
        "from ast import Try\n",
        "try:\n",
        "  with open('shamim.txt', 'r') as file:\n",
        "    for line in file:\n",
        "      print(line)\n",
        "except FileNotFoundError:\n",
        "  print('file not found')\n"
      ],
      "metadata": {
        "colab": {
          "base_uri": "https://localhost:8080/"
        },
        "id": "YlxsGIGfAD3q",
        "outputId": "eadf6807-f69e-4247-f0a7-50925b9ac1c1"
      },
      "execution_count": 4,
      "outputs": [
        {
          "output_type": "stream",
          "name": "stdout",
          "text": [
            "file not found\n"
          ]
        }
      ]
    },
    {
      "cell_type": "markdown",
      "source": [
        "5. Using a context manager"
      ],
      "metadata": {
        "id": "rYdD2qy1AEND"
      }
    },
    {
      "cell_type": "code",
      "source": [
        "with open:('shamim.txt', 'r') as file:\n",
        "  file.write(\"shamim\")\n",
        "  file.write(\"id is: 211902054\")\n",
        "  file.write(\"i am a cse student\")"
      ],
      "metadata": {
        "id": "kyDvUAj-AEbL"
      },
      "execution_count": null,
      "outputs": []
    },
    {
      "cell_type": "markdown",
      "source": [
        "6. Reading file content safely"
      ],
      "metadata": {
        "id": "WMLr2G5gQrO1"
      }
    },
    {
      "cell_type": "code",
      "source": [
        "try:\n",
        "  with open('shamim.txt', 'r') as file:\n",
        "    content = file.read()\n",
        "    print(content)\n",
        "except IOError:\n",
        "            print('file not found')\n",
        "\n",
        "except IOerror:\n",
        "            print('file not found')"
      ],
      "metadata": {
        "colab": {
          "base_uri": "https://localhost:8080/"
        },
        "id": "iMZJJPIlQwtt",
        "outputId": "15b3b8c2-db17-45a8-cac6-c380b2ce403a"
      },
      "execution_count": 6,
      "outputs": [
        {
          "output_type": "stream",
          "name": "stdout",
          "text": [
            "file not found\n"
          ]
        }
      ]
    },
    {
      "cell_type": "markdown",
      "source": [
        "7.Custom Exception handling"
      ],
      "metadata": {
        "id": "QVNtW8xGRR2t"
      }
    },
    {
      "cell_type": "code",
      "source": [
        "class Emptyfileerror(Exception):\n",
        "  pass\n",
        "try:\n",
        "  with open('shamim.txt', 'r') as file:\n",
        "    content = file.read()\n",
        "    if not content:\n",
        "      raise Emptyfileerror('file is empty')\n",
        "except Emptyfileerror as e:\n",
        "  print(e)\n",
        "except FileNotFoundError:\n",
        "  print('file is empty')"
      ],
      "metadata": {
        "colab": {
          "base_uri": "https://localhost:8080/"
        },
        "id": "_dFfalYZRXYF",
        "outputId": "5c1d0dbe-9d9d-44ce-ba85-0ffa397b7020"
      },
      "execution_count": 8,
      "outputs": [
        {
          "output_type": "stream",
          "name": "stdout",
          "text": [
            "file is empty\n"
          ]
        }
      ]
    },
    {
      "cell_type": "markdown",
      "source": [
        "8. write to a new file"
      ],
      "metadata": {
        "id": "yQaTZnl1SWcH"
      }
    },
    {
      "cell_type": "code",
      "source": [
        "with open('shamim.txt', 'r') as file:\n",
        "  for number in range(1, 11):\n",
        "    file.write(str(number) + '\\n')"
      ],
      "metadata": {
        "id": "hpIZukdySbd0"
      },
      "execution_count": null,
      "outputs": []
    },
    {
      "cell_type": "markdown",
      "source": [
        "9. Count line in a file"
      ],
      "metadata": {
        "id": "bxRqyWOXSvtS"
      }
    },
    {
      "cell_type": "code",
      "source": [
        "with open('shamim.txt', 'r') as file:\n",
        "  line_count = sum(1 for line in file)\n",
        "  print(line_count)"
      ],
      "metadata": {
        "id": "z76-y3M1WpqX"
      },
      "execution_count": null,
      "outputs": []
    },
    {
      "cell_type": "markdown",
      "source": [
        "10.Handling multiple exception"
      ],
      "metadata": {
        "id": "qzp_3m5IW2K9"
      }
    },
    {
      "cell_type": "code",
      "source": [
        "try:\n",
        "  with open('shamim.txt', 'r') as file:\n",
        "    content = file.read()\n",
        "\n",
        "  with open('ahamed.txt', 'w') as file:\n",
        "    ahamed_file.write(content)\n",
        "except FileNotFoundError:\n",
        "  print(\"The file 'shmim.txt' doesnt exist\")\n",
        "except IOError:\n",
        "  print(\"Error occoured while writing to 'ahamed.txt'\")\n"
      ],
      "metadata": {
        "colab": {
          "base_uri": "https://localhost:8080/"
        },
        "id": "hM8AHaiMXEQw",
        "outputId": "8e18e7c2-8326-4b75-c07c-05fa64b38a44"
      },
      "execution_count": 11,
      "outputs": [
        {
          "output_type": "stream",
          "name": "stdout",
          "text": [
            "The file 'shmim.txt' doesnt exist\n"
          ]
        }
      ]
    }
  ]
}