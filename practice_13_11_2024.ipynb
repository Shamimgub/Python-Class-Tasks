{
  "nbformat": 4,
  "nbformat_minor": 0,
  "metadata": {
    "colab": {
      "provenance": []
    },
    "kernelspec": {
      "name": "python3",
      "display_name": "Python 3"
    },
    "language_info": {
      "name": "python"
    }
  },
  "cells": [
    {
      "cell_type": "markdown",
      "source": [
        "1."
      ],
      "metadata": {
        "id": "bZved9dPZonV"
      }
    },
    {
      "cell_type": "code",
      "source": [
        "with open('shopping.txt', 'w')as file:\n",
        "  file.write(\"bread\\n\")\n",
        "  file.write(\"milk\\n\")\n",
        "  file.write(\"eggs\\n\")\n",
        "  for item in list:\n",
        "    file.write(item)"
      ],
      "metadata": {
        "id": "tf4O12qtZoxc"
      },
      "execution_count": 34,
      "outputs": []
    },
    {
      "cell_type": "markdown",
      "source": [
        "2."
      ],
      "metadata": {
        "id": "a7e2x1fJastw"
      }
    },
    {
      "cell_type": "code",
      "source": [
        "from os import read\n",
        "with open('shopping.txt', 'r')as file:\n",
        "  content=file.read()\n",
        "  items = content.split()\n",
        "  print(f\"{content}: {items}\")"
      ],
      "metadata": {
        "colab": {
          "base_uri": "https://localhost:8080/"
        },
        "id": "0H7NP4zwatlc",
        "outputId": "dbc7fa26-51d7-4cee-bee9-c4ba7ffc2af8"
      },
      "execution_count": 35,
      "outputs": [
        {
          "output_type": "stream",
          "name": "stdout",
          "text": [
            "bread\n",
            "milk\n",
            "eggs\n",
            "laptopiphonewatch: ['bread', 'milk', 'eggs', 'laptopiphonewatch']\n"
          ]
        }
      ]
    },
    {
      "cell_type": "markdown",
      "source": [
        "3."
      ],
      "metadata": {
        "id": "oRop5sdbchV4"
      }
    },
    {
      "cell_type": "code",
      "source": [
        "with open('shopping.txt', 'a') as file:\n",
        "  file.write(\"charger\")\n",
        "\n",
        "with open('shopping.txt', 'r')as file:\n",
        "  content=file.read()\n",
        "  print(content)\n",
        "\n",
        "\n",
        ""
      ],
      "metadata": {
        "colab": {
          "base_uri": "https://localhost:8080/"
        },
        "id": "JvlaA-o4ciaE",
        "outputId": "756759dc-7d55-40aa-cf7f-49a0b1b6f1c8"
      },
      "execution_count": 36,
      "outputs": [
        {
          "output_type": "stream",
          "name": "stdout",
          "text": [
            "bread\n",
            "milk\n",
            "eggs\n",
            "laptopiphonewatchcharger\n"
          ]
        }
      ]
    },
    {
      "cell_type": "markdown",
      "source": [
        "4."
      ],
      "metadata": {
        "id": "DNv7qwWldnnY"
      }
    },
    {
      "cell_type": "code",
      "source": [
        "try:\n",
        "  with open('shoppingkorenai.txt', 'r') as file:\n",
        "    content = file.read()\n",
        "    print(content)\n",
        "except FileNotFoundError:\n",
        "  print(\"file not found\")\n",
        "\n",
        ""
      ],
      "metadata": {
        "colab": {
          "base_uri": "https://localhost:8080/"
        },
        "id": "2qv7CFHsdojz",
        "outputId": "c0563be6-44d7-455c-e202-fb2e17208b38"
      },
      "execution_count": 15,
      "outputs": [
        {
          "output_type": "stream",
          "name": "stdout",
          "text": [
            "file not found\n"
          ]
        }
      ]
    },
    {
      "cell_type": "markdown",
      "source": [
        "5"
      ],
      "metadata": {
        "id": "846ldAAeeF8_"
      }
    },
    {
      "cell_type": "code",
      "source": [
        "with open('shopping.txt', 'r') as file:\n",
        "  items=file.read().split()\n",
        "  for item in items:\n",
        "    print(items)"
      ],
      "metadata": {
        "colab": {
          "base_uri": "https://localhost:8080/"
        },
        "id": "OYFwfWsfeGvr",
        "outputId": "0e7f2086-3aa9-4eef-9d53-ab002211352c"
      },
      "execution_count": 23,
      "outputs": [
        {
          "output_type": "stream",
          "name": "stdout",
          "text": [
            "['laptopiphonewatchchargerchargercharger']\n"
          ]
        }
      ]
    },
    {
      "cell_type": "markdown",
      "source": [
        "6."
      ],
      "metadata": {
        "id": "l_n9G7b4fD_q"
      }
    },
    {
      "cell_type": "code",
      "source": [
        "from os import read\n",
        "with open('notes.txt', 'w')as file:\n",
        "  file.write(\"python is great for data analysis.\\n\")\n",
        "  file.write(\"Exception handling makes code robust.\\n\")"
      ],
      "metadata": {
        "id": "odanjSVFfFHM"
      },
      "execution_count": 27,
      "outputs": []
    },
    {
      "cell_type": "markdown",
      "source": [
        "7."
      ],
      "metadata": {
        "id": "yoXlPduUf6pY"
      }
    },
    {
      "cell_type": "code",
      "source": [
        "with open('notes.txt', 'r') as file:\n",
        "    for line in file:\n",
        "        print(line, end='')"
      ],
      "metadata": {
        "colab": {
          "base_uri": "https://localhost:8080/"
        },
        "id": "IzIjK4uPf7fF",
        "outputId": "b7f70075-5f6f-4f36-dae5-490756b227d0"
      },
      "execution_count": 28,
      "outputs": [
        {
          "output_type": "stream",
          "name": "stdout",
          "text": [
            "python is great for data analysis.\n",
            "Exception handling makes code robust.\n"
          ]
        }
      ]
    },
    {
      "cell_type": "markdown",
      "source": [
        "9."
      ],
      "metadata": {
        "id": "T8gCzlNPhUsP"
      }
    },
    {
      "cell_type": "code",
      "source": [
        "try:\n",
        "    with open('notes.txt', 'r') as main_file, open('notes_backup.txt', 'w') as backup_file:\n",
        "        content = main_file.read()\n",
        "        backup_file.write(content)\n",
        "    print(\"Backup successful\")\n",
        "\n",
        "except FileNotFoundError:\n",
        "    print(\"Error: 'notes.txt' not found.\")\n",
        "\n",
        "except Exception as e:\n",
        "    print(f\"An unexpected error occurred: {e}\")\n"
      ],
      "metadata": {
        "colab": {
          "base_uri": "https://localhost:8080/"
        },
        "id": "MiqNE3cshVm7",
        "outputId": "bd762caf-12ad-433e-a29d-ecd345bfcbf7"
      },
      "execution_count": 31,
      "outputs": [
        {
          "output_type": "stream",
          "name": "stdout",
          "text": [
            "Backup successful\n"
          ]
        }
      ]
    },
    {
      "cell_type": "markdown",
      "source": [
        "10."
      ],
      "metadata": {
        "id": "mponao55iYRI"
      }
    },
    {
      "cell_type": "code",
      "source": [
        "try:\n",
        "    with open('shopping.txt', 'r') as main_file, open('list_backup.txt', 'w') as backup_file:\n",
        "        content = main_file.read()\n",
        "        backup_file.write(content)\n",
        "    print(\"Data transfer succesfull\")\n",
        "\n",
        "except FileNotFoundError:\n",
        "    print(\"Error: 'shopping.txt' not found.\")\n",
        "\n",
        "except Exception as e:\n",
        "    print(f\"An unexpected error occurred: {e}\")\n",
        "except IOError as e:\n",
        "    print(f\"An I/O error occurred: {e}\")\n"
      ],
      "metadata": {
        "colab": {
          "base_uri": "https://localhost:8080/"
        },
        "id": "E6duufJtiZUj",
        "outputId": "88fdeee7-3b00-498a-d471-e6cdfe475d4c"
      },
      "execution_count": 33,
      "outputs": [
        {
          "output_type": "stream",
          "name": "stdout",
          "text": [
            "An unexpected error occurred: name 'backup0_file' is not defined\n"
          ]
        }
      ]
    }
  ]
}