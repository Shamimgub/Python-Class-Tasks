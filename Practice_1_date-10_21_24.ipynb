{
  "nbformat": 4,
  "nbformat_minor": 0,
  "metadata": {
    "colab": {
      "provenance": []
    },
    "kernelspec": {
      "name": "python3",
      "display_name": "Python 3"
    },
    "language_info": {
      "name": "python"
    }
  },
  "cells": [
    {
      "cell_type": "code",
      "execution_count": 1,
      "metadata": {
        "colab": {
          "base_uri": "https://localhost:8080/"
        },
        "id": "c7o9B8JkvE9U",
        "outputId": "4482370b-a1bb-45f5-c366-c0a9bd1e5d30"
      },
      "outputs": [
        {
          "output_type": "stream",
          "name": "stdout",
          "text": [
            "hello world\n"
          ]
        }
      ],
      "source": [
        "print('hello world')"
      ]
    },
    {
      "cell_type": "markdown",
      "source": [
        "*italicized text*"
      ],
      "metadata": {
        "id": "WQhKnMH7vLjV"
      }
    },
    {
      "cell_type": "markdown",
      "source": [
        "Basic arithmetic operations"
      ],
      "metadata": {
        "id": "-TWsMLLevHEV"
      }
    },
    {
      "cell_type": "code",
      "source": [
        "a = 17\n",
        "b = 11\n",
        "print(a+b)\n",
        "print(a-b)\n",
        "print(a*b)\n",
        "print(a/b)\n",
        "print(a//b)\n",
        "print(a%b)\n",
        "print(a**b)"
      ],
      "metadata": {
        "colab": {
          "base_uri": "https://localhost:8080/"
        },
        "id": "CXtIsNSXvGV9",
        "outputId": "b8837f3e-2f74-4f36-a6d7-be284f37f441"
      },
      "execution_count": 2,
      "outputs": [
        {
          "output_type": "stream",
          "name": "stdout",
          "text": [
            "28\n",
            "6\n",
            "187\n",
            "1.5454545454545454\n",
            "1\n",
            "6\n",
            "34271896307633\n"
          ]
        }
      ]
    },
    {
      "cell_type": "markdown",
      "source": [],
      "metadata": {
        "id": "t_JZPGRPvIKy"
      }
    },
    {
      "cell_type": "code",
      "source": [
        "name= 'Alice'\n",
        "age = 24\n",
        "height = 5.7\n",
        "print(name, age, height)"
      ],
      "metadata": {
        "colab": {
          "base_uri": "https://localhost:8080/"
        },
        "id": "qvDLjn78vGZD",
        "outputId": "29dd8ec9-96f1-4f61-c854-a4a0511286d0"
      },
      "execution_count": 3,
      "outputs": [
        {
          "output_type": "stream",
          "name": "stdout",
          "text": [
            "Alice 24 5.7\n"
          ]
        }
      ]
    },
    {
      "cell_type": "markdown",
      "source": [],
      "metadata": {
        "id": "UnzX8wCYvJBy"
      }
    },
    {
      "cell_type": "code",
      "source": [
        "name = input('what is your name?')\n",
        "colour = input('what is your favourite colour?')\n",
        "print(f\"hello {name}, your favourite colour is {colour}.\")"
      ],
      "metadata": {
        "colab": {
          "base_uri": "https://localhost:8080/"
        },
        "id": "BVpyD8cevGbz",
        "outputId": "2f792f56-d450-4f99-c383-9337598c1dd7"
      },
      "execution_count": 4,
      "outputs": [
        {
          "output_type": "stream",
          "name": "stdout",
          "text": [
            "what is your name?shamim\n",
            "what is your favourite colour?white\n",
            "hello shamim, your favourite colour is white.\n"
          ]
        }
      ]
    },
    {
      "cell_type": "code",
      "source": [
        "num1= int(input(\"Enter the first number:\"))\n",
        "num2= int(input(\"Enter the second number:\"))\n",
        "print(\"Sum of two number is:\", num1 + num2)"
      ],
      "metadata": {
        "colab": {
          "base_uri": "https://localhost:8080/"
        },
        "id": "si7mGeeZvGeq",
        "outputId": "d7407b0a-5e9e-44dd-cf96-3ee25d69c9ac"
      },
      "execution_count": 6,
      "outputs": [
        {
          "output_type": "stream",
          "name": "stdout",
          "text": [
            "Enter the first number:56\n",
            "Enter the second number:34\n",
            "Sum of two number is: 90\n"
          ]
        }
      ]
    },
    {
      "cell_type": "code",
      "source": [
        "calcius = 23\n",
        "fahrenhit = (calcius * 9/5) + 32\n",
        "print(\"Fahrenhit: \", fahrenhit)"
      ],
      "metadata": {
        "colab": {
          "base_uri": "https://localhost:8080/"
        },
        "id": "_C06kYbgxEk6",
        "outputId": "f3975dee-a160-43dd-a208-63adf3f94f34"
      },
      "execution_count": 8,
      "outputs": [
        {
          "output_type": "stream",
          "name": "stdout",
          "text": [
            "Fahrenhit:  73.4\n"
          ]
        }
      ]
    },
    {
      "cell_type": "code",
      "source": [
        "kilo = 12\n",
        "miles = kilo * 0.62137\n",
        "print(\"Miles: \", miles)"
      ],
      "metadata": {
        "colab": {
          "base_uri": "https://localhost:8080/"
        },
        "id": "Ec18ZYjCxEnU",
        "outputId": "b9df728d-d807-43c5-fca0-ffb1473fb03f"
      },
      "execution_count": 9,
      "outputs": [
        {
          "output_type": "stream",
          "name": "stdout",
          "text": [
            "Miles:  7.45644\n"
          ]
        }
      ]
    },
    {
      "cell_type": "code",
      "source": [
        "name = input(\"Enter your name: \")\n",
        "print(\"uppercase\", name.upper())\n",
        "print(\"lowercase\", name.lower())"
      ],
      "metadata": {
        "colab": {
          "base_uri": "https://localhost:8080/"
        },
        "id": "kD1v2myNxEq2",
        "outputId": "f2eb83d6-675e-48df-abfd-98f6794c9602"
      },
      "execution_count": 10,
      "outputs": [
        {
          "output_type": "stream",
          "name": "stdout",
          "text": [
            "Enter your name: my name is shamim\n",
            "uppercase MY NAME IS SHAMIM\n",
            "lowercase my name is shamim\n"
          ]
        }
      ]
    },
    {
      "cell_type": "code",
      "source": [
        "num_str =\"6586\"\n",
        "num_int = int(num_str)\n",
        "print(num_int)"
      ],
      "metadata": {
        "colab": {
          "base_uri": "https://localhost:8080/"
        },
        "id": "oly6QQo9vGiM",
        "outputId": "c597373d-3a94-4ec0-a923-4d2cb1011a8d"
      },
      "execution_count": 11,
      "outputs": [
        {
          "output_type": "stream",
          "name": "stdout",
          "text": [
            "6586\n"
          ]
        }
      ]
    },
    {
      "cell_type": "code",
      "source": [
        "name = \"shamim\"\n",
        "age = 24\n",
        "print(f\"{name} is {age} years old.\")"
      ],
      "metadata": {
        "colab": {
          "base_uri": "https://localhost:8080/"
        },
        "id": "sg2-z8CcyJMj",
        "outputId": "53108da3-72b0-46f4-da09-2532f1074a27"
      },
      "execution_count": 13,
      "outputs": [
        {
          "output_type": "stream",
          "name": "stdout",
          "text": [
            "shamim is 24 years old.\n"
          ]
        }
      ]
    }
  ]
}