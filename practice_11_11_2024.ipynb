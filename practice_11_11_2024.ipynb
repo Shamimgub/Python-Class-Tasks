{
  "nbformat": 4,
  "nbformat_minor": 0,
  "metadata": {
    "colab": {
      "provenance": []
    },
    "kernelspec": {
      "name": "python3",
      "display_name": "Python 3"
    },
    "language_info": {
      "name": "python"
    }
  },
  "cells": [
    {
      "cell_type": "markdown",
      "source": [
        "1."
      ],
      "metadata": {
        "id": "V6VyVwnZGUNn"
      }
    },
    {
      "cell_type": "code",
      "source": [
        "num = int(input(\"Enter a number: \"))\n",
        "num = int(input(\"Enter a number: \"))\n",
        "if num % 3 == 0 and num % 5 == 0:\n",
        "  print(\"number is divisible by 3 and 5\")\n",
        "else:\n",
        "  print(\"number is not divisible by 3 and 5\")\n"
      ],
      "metadata": {
        "colab": {
          "base_uri": "https://localhost:8080/",
          "height": 106
        },
        "id": "RJ8TEJPbGVtn",
        "outputId": "7c2ee79f-e3f9-4b15-90f2-cadff7241bfd"
      },
      "execution_count": 1,
      "outputs": [
        {
          "output_type": "error",
          "ename": "SyntaxError",
          "evalue": "invalid syntax (<ipython-input-1-641342b6db9e>, line 4)",
          "traceback": [
            "\u001b[0;36m  File \u001b[0;32m\"<ipython-input-1-641342b6db9e>\"\u001b[0;36m, line \u001b[0;32m4\u001b[0m\n\u001b[0;31m    elif:\u001b[0m\n\u001b[0m        ^\u001b[0m\n\u001b[0;31mSyntaxError\u001b[0m\u001b[0;31m:\u001b[0m invalid syntax\n"
          ]
        }
      ]
    },
    {
      "cell_type": "markdown",
      "source": [
        "2."
      ],
      "metadata": {
        "id": "AFYQWbSNG6Zv"
      }
    },
    {
      "cell_type": "code",
      "source": [
        "num = int(input(\"Enter a positive integer number:\"))\n",
        "sum_of_num = sum(int(digit) for digit in str(num))\n",
        "print(\"Sum of the digit is: \", sum_of_num)"
      ],
      "metadata": {
        "colab": {
          "base_uri": "https://localhost:8080/"
        },
        "id": "1pcLId_zG7Wi",
        "outputId": "4ee28bd6-6921-40df-8d48-5b7b75b4c808"
      },
      "execution_count": 7,
      "outputs": [
        {
          "output_type": "stream",
          "name": "stdout",
          "text": [
            "Enter a positive integer number:11\n",
            "Sum of the digit is:  2\n"
          ]
        }
      ]
    },
    {
      "cell_type": "markdown",
      "source": [
        "3. Count even and odd numbers"
      ],
      "metadata": {
        "id": "OJe-7JgsIE6I"
      }
    },
    {
      "cell_type": "code",
      "source": [
        "even = 0;\n",
        "odd = 0;\n",
        "while True:\n",
        "    num = int(input(\"Enter a number:\"))\n",
        "    if num == 0:\n",
        "        break\n",
        "    if num % 2 == 0:\n",
        "        even += 1\n",
        "    else:\n",
        "        odd += 1\n",
        "print(\"Even numbers:\", even)\n",
        "print(\"Odd numbers:\", odd)\n",
        "\n",
        ""
      ],
      "metadata": {
        "colab": {
          "base_uri": "https://localhost:8080/",
          "height": 408
        },
        "id": "oVeOAoxYIF6J",
        "outputId": "f34ffcf2-eeb7-439c-cca0-605c4969e9df"
      },
      "execution_count": 22,
      "outputs": [
        {
          "name": "stdout",
          "output_type": "stream",
          "text": [
            "Enter a number:45\n",
            "Enter a number:66\n",
            "Enter a number:3\n"
          ]
        },
        {
          "output_type": "error",
          "ename": "KeyboardInterrupt",
          "evalue": "Interrupted by user",
          "traceback": [
            "\u001b[0;31m---------------------------------------------------------------------------\u001b[0m",
            "\u001b[0;31mKeyboardInterrupt\u001b[0m                         Traceback (most recent call last)",
            "\u001b[0;32m<ipython-input-22-eb72e71e4e6b>\u001b[0m in \u001b[0;36m<cell line: 3>\u001b[0;34m()\u001b[0m\n\u001b[1;32m      2\u001b[0m \u001b[0modd\u001b[0m \u001b[0;34m=\u001b[0m \u001b[0;36m0\u001b[0m\u001b[0;34m;\u001b[0m\u001b[0;34m\u001b[0m\u001b[0;34m\u001b[0m\u001b[0m\n\u001b[1;32m      3\u001b[0m \u001b[0;32mwhile\u001b[0m \u001b[0;32mTrue\u001b[0m\u001b[0;34m:\u001b[0m\u001b[0;34m\u001b[0m\u001b[0;34m\u001b[0m\u001b[0m\n\u001b[0;32m----> 4\u001b[0;31m     \u001b[0mnum\u001b[0m \u001b[0;34m=\u001b[0m \u001b[0mint\u001b[0m\u001b[0;34m(\u001b[0m\u001b[0minput\u001b[0m\u001b[0;34m(\u001b[0m\u001b[0;34m\"Enter a number:\"\u001b[0m\u001b[0;34m)\u001b[0m\u001b[0;34m)\u001b[0m\u001b[0;34m\u001b[0m\u001b[0;34m\u001b[0m\u001b[0m\n\u001b[0m\u001b[1;32m      5\u001b[0m     \u001b[0;32mif\u001b[0m \u001b[0mnum\u001b[0m \u001b[0;34m==\u001b[0m \u001b[0;36m0\u001b[0m\u001b[0;34m:\u001b[0m\u001b[0;34m\u001b[0m\u001b[0;34m\u001b[0m\u001b[0m\n\u001b[1;32m      6\u001b[0m         \u001b[0;32mbreak\u001b[0m\u001b[0;34m\u001b[0m\u001b[0;34m\u001b[0m\u001b[0m\n",
            "\u001b[0;32m/usr/local/lib/python3.10/dist-packages/ipykernel/kernelbase.py\u001b[0m in \u001b[0;36mraw_input\u001b[0;34m(self, prompt)\u001b[0m\n\u001b[1;32m    849\u001b[0m                 \u001b[0;34m\"raw_input was called, but this frontend does not support input requests.\"\u001b[0m\u001b[0;34m\u001b[0m\u001b[0;34m\u001b[0m\u001b[0m\n\u001b[1;32m    850\u001b[0m             )\n\u001b[0;32m--> 851\u001b[0;31m         return self._input_request(str(prompt),\n\u001b[0m\u001b[1;32m    852\u001b[0m             \u001b[0mself\u001b[0m\u001b[0;34m.\u001b[0m\u001b[0m_parent_ident\u001b[0m\u001b[0;34m,\u001b[0m\u001b[0;34m\u001b[0m\u001b[0;34m\u001b[0m\u001b[0m\n\u001b[1;32m    853\u001b[0m             \u001b[0mself\u001b[0m\u001b[0;34m.\u001b[0m\u001b[0m_parent_header\u001b[0m\u001b[0;34m,\u001b[0m\u001b[0;34m\u001b[0m\u001b[0;34m\u001b[0m\u001b[0m\n",
            "\u001b[0;32m/usr/local/lib/python3.10/dist-packages/ipykernel/kernelbase.py\u001b[0m in \u001b[0;36m_input_request\u001b[0;34m(self, prompt, ident, parent, password)\u001b[0m\n\u001b[1;32m    893\u001b[0m             \u001b[0;32mexcept\u001b[0m \u001b[0mKeyboardInterrupt\u001b[0m\u001b[0;34m:\u001b[0m\u001b[0;34m\u001b[0m\u001b[0;34m\u001b[0m\u001b[0m\n\u001b[1;32m    894\u001b[0m                 \u001b[0;31m# re-raise KeyboardInterrupt, to truncate traceback\u001b[0m\u001b[0;34m\u001b[0m\u001b[0;34m\u001b[0m\u001b[0m\n\u001b[0;32m--> 895\u001b[0;31m                 \u001b[0;32mraise\u001b[0m \u001b[0mKeyboardInterrupt\u001b[0m\u001b[0;34m(\u001b[0m\u001b[0;34m\"Interrupted by user\"\u001b[0m\u001b[0;34m)\u001b[0m \u001b[0;32mfrom\u001b[0m \u001b[0;32mNone\u001b[0m\u001b[0;34m\u001b[0m\u001b[0;34m\u001b[0m\u001b[0m\n\u001b[0m\u001b[1;32m    896\u001b[0m             \u001b[0;32mexcept\u001b[0m \u001b[0mException\u001b[0m \u001b[0;32mas\u001b[0m \u001b[0me\u001b[0m\u001b[0;34m:\u001b[0m\u001b[0;34m\u001b[0m\u001b[0;34m\u001b[0m\u001b[0m\n\u001b[1;32m    897\u001b[0m                 \u001b[0mself\u001b[0m\u001b[0;34m.\u001b[0m\u001b[0mlog\u001b[0m\u001b[0;34m.\u001b[0m\u001b[0mwarning\u001b[0m\u001b[0;34m(\u001b[0m\u001b[0;34m\"Invalid Message:\"\u001b[0m\u001b[0;34m,\u001b[0m \u001b[0mexc_info\u001b[0m\u001b[0;34m=\u001b[0m\u001b[0;32mTrue\u001b[0m\u001b[0;34m)\u001b[0m\u001b[0;34m\u001b[0m\u001b[0;34m\u001b[0m\u001b[0m\n",
            "\u001b[0;31mKeyboardInterrupt\u001b[0m: Interrupted by user"
          ]
        }
      ]
    },
    {
      "cell_type": "markdown",
      "source": [
        "4. Factorial calculation"
      ],
      "metadata": {
        "id": "ufwDK_oQJKc_"
      }
    },
    {
      "cell_type": "code",
      "source": [
        "num=int(input(\"Enter a number:\"))\n",
        "factorial = 1\n",
        "for i in range(1, num + 1):\n",
        "    factorial *= i\n",
        "print(\"Factorial of\", num, \"is\", factorial)"
      ],
      "metadata": {
        "colab": {
          "base_uri": "https://localhost:8080/"
        },
        "id": "CXXZsk2PJNuy",
        "outputId": "9203dd40-30b5-4c3c-b358-e04f13f7f5e6"
      },
      "execution_count": 4,
      "outputs": [
        {
          "output_type": "stream",
          "name": "stdout",
          "text": [
            "Enter a number:5\n",
            "Factorial of 5 is 120\n"
          ]
        }
      ]
    },
    {
      "cell_type": "markdown",
      "source": [
        "5. Multiplication table"
      ],
      "metadata": {
        "id": "2Ih_Rza-JmW8"
      }
    },
    {
      "cell_type": "code",
      "source": [
        "num = int(input(\"Enter a number from 1 to 12:\"))\n",
        "for i in range(1, 12):\n",
        "    print(num, \"x\", i, \"=\", num * i)"
      ],
      "metadata": {
        "colab": {
          "base_uri": "https://localhost:8080/"
        },
        "id": "Y38VQoiqJpat",
        "outputId": "d73710aa-55ed-48ea-fd04-1234866ca170"
      },
      "execution_count": 5,
      "outputs": [
        {
          "output_type": "stream",
          "name": "stdout",
          "text": [
            "Enter a number from 1 to 12:8\n",
            "8 x 1 = 8\n",
            "8 x 2 = 16\n",
            "8 x 3 = 24\n",
            "8 x 4 = 32\n",
            "8 x 5 = 40\n",
            "8 x 6 = 48\n",
            "8 x 7 = 56\n",
            "8 x 8 = 64\n",
            "8 x 9 = 72\n",
            "8 x 10 = 80\n",
            "8 x 11 = 88\n"
          ]
        }
      ]
    },
    {
      "cell_type": "markdown",
      "source": [
        "6."
      ],
      "metadata": {
        "id": "jX1dp3FNLBLC"
      }
    },
    {
      "cell_type": "code",
      "source": [
        "num=[]\n",
        "num2=int(input(\"Enter the number of elements in list:\"))\n",
        "for n in range(num2):\n",
        "    number=int(input(\"Enter number:\"))\n",
        "    num.append(number)\n",
        "print(\"Largest element in the list is:\", max(num))"
      ],
      "metadata": {
        "id": "IpEYRzZOLDQF"
      },
      "execution_count": null,
      "outputs": []
    },
    {
      "cell_type": "markdown",
      "source": [
        "7."
      ],
      "metadata": {
        "id": "j7N9tIAwLksF"
      }
    },
    {
      "cell_type": "code",
      "source": [
        "num = int(input(\"enter a number:\"))\n",
        "is_prime = True\n",
        "if num > 1:\n",
        "  for i in range (2, int(num ** 0.5) +1):\n",
        "    if num % 1 == 0:\n",
        "      is_prime = False\n",
        "      break\n",
        "  if is_prime:\n",
        "    print(\"Number is prime\")\n",
        "  else :\n",
        "    print(\"Number is not prime\")\n",
        "else:\n",
        "  print(\"Number is not prime\")"
      ],
      "metadata": {
        "id": "5hY_EuTbMlkR"
      },
      "execution_count": null,
      "outputs": []
    },
    {
      "cell_type": "markdown",
      "source": [
        "8."
      ],
      "metadata": {
        "id": "Lnh6WD_zNyvA"
      }
    },
    {
      "cell_type": "code",
      "source": [
        "result=int(input(\"Enter your result:\"))\n",
        "if result > 90:\n",
        "  print(\"Grade A\")\n",
        "elif result > 80:\n",
        "    print(\"Grade B\")\n",
        "elif result > 70:\n",
        "      print(\"Grade C\")\n",
        "elif result > 60:\n",
        "        print(\"Grade D\")\n",
        "else:\n",
        "          print(\"Grade F\")"
      ],
      "metadata": {
        "colab": {
          "base_uri": "https://localhost:8080/"
        },
        "id": "75Xij-_5N0B2",
        "outputId": "b17e1cc0-3044-428c-af0f-5087ee1057b4"
      },
      "execution_count": 17,
      "outputs": [
        {
          "output_type": "stream",
          "name": "stdout",
          "text": [
            "Enter your result:99\n",
            "Grade A\n"
          ]
        }
      ]
    },
    {
      "cell_type": "markdown",
      "source": [
        "9."
      ],
      "metadata": {
        "id": "XzVaM5gZOrrZ"
      }
    },
    {
      "cell_type": "code",
      "source": [
        "char=input(\"Enter a character:\").lower()\n",
        "vowel = 'aeiou'\n",
        "count = sum(1 for letter in char if letter in vowel)\n",
        "print(\"Number of vowels in the string:\", count)"
      ],
      "metadata": {
        "colab": {
          "base_uri": "https://localhost:8080/"
        },
        "id": "HBCpSy_LOsxC",
        "outputId": "cb5bac2d-bb25-4c5c-8a1f-9cb3d2236b41"
      },
      "execution_count": 23,
      "outputs": [
        {
          "output_type": "stream",
          "name": "stdout",
          "text": [
            "Enter a character:amishamim\n",
            "Number of vowels in the string: 4\n"
          ]
        }
      ]
    },
    {
      "cell_type": "markdown",
      "source": [
        "10."
      ],
      "metadata": {
        "id": "yTy5DRGLQFox"
      }
    },
    {
      "cell_type": "code",
      "source": [
        "balance = 0\n",
        "while True:\n",
        "  print(\"Meanue:\")\n",
        "  print(\"1. Deposit\")\n",
        "  print(\"2. Withdraw\")\n",
        "  print(\"3. Check balance\")\n",
        "  print(\"4. Exit\")\n",
        "  choice = int(input(\"Enter your choice:\"))\n",
        "  if choice == 1:\n",
        "    amount = float(input(\"Enter the amount to deposit:\"))\n",
        "    balance += amount\n",
        "    print(\"Deposit of\", amount, \"successful.\")\n",
        "  elif choice == 2:\n",
        "    amount = float(input(\"Enter the amount to withdraw:\"))\n",
        "  if amount > balance:\n",
        "      print(\"Insufficient balance.\")\n",
        "  else:\n",
        "      balance -= amount\n",
        "      print(\"Withdrawal of\", amount, \"successful.\")\n",
        "\n"
      ],
      "metadata": {
        "id": "iXWPMBJWQsUm"
      },
      "execution_count": null,
      "outputs": []
    }
  ]
}