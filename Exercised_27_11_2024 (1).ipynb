{
  "nbformat": 4,
  "nbformat_minor": 0,
  "metadata": {
    "colab": {
      "provenance": []
    },
    "kernelspec": {
      "name": "python3",
      "display_name": "Python 3"
    },
    "language_info": {
      "name": "python"
    }
  },
  "cells": [
    {
      "cell_type": "markdown",
      "source": [
        "1.using deque"
      ],
      "metadata": {
        "id": "4OTrsPtzKZcR"
      }
    },
    {
      "cell_type": "code",
      "source": [
        "from collections import deque\n",
        "stack = deque()\n",
        "stack.append(10)\n",
        "stack.append(20)\n",
        "print(stack.pop())\n",
        "print(stack[-1])"
      ],
      "metadata": {
        "colab": {
          "base_uri": "https://localhost:8080/"
        },
        "id": "evzpginsKZqS",
        "outputId": "c10ecea1-e464-4756-8256-fa1a30d0b50a"
      },
      "execution_count": null,
      "outputs": [
        {
          "output_type": "stream",
          "name": "stdout",
          "text": [
            "20\n",
            "10\n"
          ]
        }
      ]
    },
    {
      "cell_type": "markdown",
      "source": [
        "using Deque"
      ],
      "metadata": {
        "id": "EFapIGNAUPdd"
      }
    },
    {
      "cell_type": "code",
      "source": [
        "from collections import deque\n",
        "queue = deque()\n",
        "queue.append(10)\n",
        "queue.append(20)\n",
        "print(queue.popleft())\n",
        "print(queue)"
      ],
      "metadata": {
        "colab": {
          "base_uri": "https://localhost:8080/"
        },
        "id": "eYMgm56gUP0u",
        "outputId": "4206bb62-be39-4119-9031-b79ec191bc79"
      },
      "execution_count": null,
      "outputs": [
        {
          "output_type": "stream",
          "name": "stdout",
          "text": [
            "10\n",
            "deque([20])\n"
          ]
        }
      ]
    },
    {
      "cell_type": "markdown",
      "source": [
        "queue.queue"
      ],
      "metadata": {
        "id": "ilTbk2dDd5vg"
      }
    },
    {
      "cell_type": "code",
      "source": [
        "from queue import Queue\n",
        "queue = Queue()\n",
        "queue.put(10)\n",
        "queue.put(20)\n",
        "print(queue.get())\n",
        "print(queue.get())"
      ],
      "metadata": {
        "colab": {
          "base_uri": "https://localhost:8080/"
        },
        "id": "yIFkK_s-d_ks",
        "outputId": "e645f1b3-3ff4-4fd6-9625-dc7308b5c460"
      },
      "execution_count": null,
      "outputs": [
        {
          "output_type": "stream",
          "name": "stdout",
          "text": [
            "10\n",
            "20\n"
          ]
        }
      ]
    },
    {
      "cell_type": "markdown",
      "source": [],
      "metadata": {
        "id": "yuJlewxIf8Sr"
      }
    },
    {
      "cell_type": "code",
      "source": [
        "import heapq\n",
        "nums = [4,1,7,3]\n",
        "heapq.heapify(nums)\n",
        "heapq.heappush(nums, 2)\n",
        "print(heapq.heappop(nums))\n"
      ],
      "metadata": {
        "colab": {
          "base_uri": "https://localhost:8080/"
        },
        "id": "5lbT_DfTf9S7",
        "outputId": "9b2a5557-2b85-4b09-b39a-cac98de20f19"
      },
      "execution_count": null,
      "outputs": [
        {
          "output_type": "stream",
          "name": "stdout",
          "text": [
            "1\n"
          ]
        }
      ]
    },
    {
      "cell_type": "markdown",
      "source": [],
      "metadata": {
        "id": "L82MgTOig04Z"
      }
    },
    {
      "cell_type": "code",
      "source": [
        "from collections import deque\n",
        "dq = deque([1,2,3])\n",
        "dq.append(4)\n",
        "dq.appendleft(0)\n",
        "print(dq)\n",
        "dq.pop()\n",
        "dq.popleft()"
      ],
      "metadata": {
        "colab": {
          "base_uri": "https://localhost:8080/"
        },
        "id": "BxBq7cO2g1Bs",
        "outputId": "763618b2-9bba-4aab-c28a-dc4d0789e441"
      },
      "execution_count": null,
      "outputs": [
        {
          "output_type": "stream",
          "name": "stdout",
          "text": [
            "deque([0, 1, 2, 3, 4])\n"
          ]
        },
        {
          "output_type": "execute_result",
          "data": {
            "text/plain": [
              "0"
            ]
          },
          "metadata": {},
          "execution_count": 6
        }
      ]
    },
    {
      "cell_type": "markdown",
      "source": [],
      "metadata": {
        "id": "vcKuSOwPjRaO"
      }
    },
    {
      "cell_type": "code",
      "source": [
        "from collections import deque\n",
        "\n",
        "class Stack:\n",
        "    def __init__(self):\n",
        "        self.stack = deque()\n",
        "\n",
        "    def push(self, item):\n",
        "        self.stack.append(item)\n",
        "\n",
        "    def pop(self):\n",
        "        if self.stack:\n",
        "            return self.stack.pop()\n",
        "        else:\n",
        "            return None\n",
        "\n",
        "    def peek(self):\n",
        "        if self.stack:\n",
        "            return self.stack[-1]\n",
        "        else:\n",
        "            return None\n",
        "my_stack = Stack()\n",
        "my_stack.push(10)\n",
        "my_stack.push(20)\n",
        "print(my_stack.pop())\n",
        "print(my_stack.peek())"
      ],
      "metadata": {
        "colab": {
          "base_uri": "https://localhost:8080/"
        },
        "id": "IQ-QQOAYjRjT",
        "outputId": "367b0eac-d578-405a-e08f-eb9ebd4086f1"
      },
      "execution_count": null,
      "outputs": [
        {
          "output_type": "stream",
          "name": "stdout",
          "text": [
            "20\n",
            "10\n"
          ]
        }
      ]
    },
    {
      "cell_type": "code",
      "source": [
        "numbs=[9,4,2,4,5]\n",
        "print(sorted(numbs))\n",
        "list = numbs.sort\n",
        "print(list)"
      ],
      "metadata": {
        "colab": {
          "base_uri": "https://localhost:8080/"
        },
        "id": "d8-4UA38mLxN",
        "outputId": "ad1fee62-d8fa-4b10-c237-57d14c73077c"
      },
      "execution_count": null,
      "outputs": [
        {
          "output_type": "stream",
          "name": "stdout",
          "text": [
            "[2, 4, 4, 5, 9]\n",
            "<built-in method sort of list object at 0x7ebd842516c0>\n"
          ]
        }
      ]
    },
    {
      "cell_type": "code",
      "source": [
        "nums = [9,4,2,4,5]\n",
        "print(4 in nums)\n",
        "print(numbs.index(3))"
      ],
      "metadata": {
        "colab": {
          "base_uri": "https://localhost:8080/",
          "height": 193
        },
        "id": "uyFEvVptn0t3",
        "outputId": "f9af8531-fe1b-4b97-baa3-e307149a60b4"
      },
      "execution_count": null,
      "outputs": [
        {
          "output_type": "stream",
          "name": "stdout",
          "text": [
            "True\n"
          ]
        },
        {
          "output_type": "error",
          "ename": "ValueError",
          "evalue": "3 is not in list",
          "traceback": [
            "\u001b[0;31m---------------------------------------------------------------------------\u001b[0m",
            "\u001b[0;31mValueError\u001b[0m                                Traceback (most recent call last)",
            "\u001b[0;32m<ipython-input-18-e2e09af5f585>\u001b[0m in \u001b[0;36m<cell line: 3>\u001b[0;34m()\u001b[0m\n\u001b[1;32m      1\u001b[0m \u001b[0mnums\u001b[0m \u001b[0;34m=\u001b[0m \u001b[0;34m[\u001b[0m\u001b[0;36m9\u001b[0m\u001b[0;34m,\u001b[0m\u001b[0;36m4\u001b[0m\u001b[0;34m,\u001b[0m\u001b[0;36m2\u001b[0m\u001b[0;34m,\u001b[0m\u001b[0;36m4\u001b[0m\u001b[0;34m,\u001b[0m\u001b[0;36m5\u001b[0m\u001b[0;34m]\u001b[0m\u001b[0;34m\u001b[0m\u001b[0;34m\u001b[0m\u001b[0m\n\u001b[1;32m      2\u001b[0m \u001b[0mprint\u001b[0m\u001b[0;34m(\u001b[0m\u001b[0;36m4\u001b[0m \u001b[0;32min\u001b[0m \u001b[0mnums\u001b[0m\u001b[0;34m)\u001b[0m\u001b[0;34m\u001b[0m\u001b[0;34m\u001b[0m\u001b[0m\n\u001b[0;32m----> 3\u001b[0;31m \u001b[0mprint\u001b[0m\u001b[0;34m(\u001b[0m\u001b[0mnumbs\u001b[0m\u001b[0;34m.\u001b[0m\u001b[0mindex\u001b[0m\u001b[0;34m(\u001b[0m\u001b[0;36m3\u001b[0m\u001b[0;34m)\u001b[0m\u001b[0;34m)\u001b[0m\u001b[0;34m\u001b[0m\u001b[0;34m\u001b[0m\u001b[0m\n\u001b[0m",
            "\u001b[0;31mValueError\u001b[0m: 3 is not in list"
          ]
        }
      ]
    },
    {
      "cell_type": "code",
      "source": [
        "numbs =[1,3,4,5]\n",
        "print(sum(numbs))\n",
        "print(max(numbs))\n",
        "print(min(numbs))\n",
        "print(all(numbs))\n",
        "print(any(numbs))\n",
        "print(len(numbs))"
      ],
      "metadata": {
        "colab": {
          "base_uri": "https://localhost:8080/"
        },
        "id": "CHrbSaT8oVHU",
        "outputId": "549a33ee-85b9-4d23-aecb-ad00141a6aeb"
      },
      "execution_count": null,
      "outputs": [
        {
          "output_type": "stream",
          "name": "stdout",
          "text": [
            "13\n",
            "5\n",
            "1\n",
            "True\n",
            "True\n",
            "4\n"
          ]
        }
      ]
    }
  ]
}